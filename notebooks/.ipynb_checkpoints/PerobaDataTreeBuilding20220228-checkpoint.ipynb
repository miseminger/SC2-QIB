{
 "cells": [
  {
   "cell_type": "markdown",
   "id": "68772b55",
   "metadata": {},
   "source": [
    "The output tree is not annotated, I suspect because so many branch lengths are 0. How could it infer the region if everything is 0? To fix this, I will try again with more diverse sequences. Maybe the 100 most diverse NORW, and the 100 most diverse neighbours. For now, though, go eat something (done!) and then write up the streamlining. Then retry. Then, once you have a tree, visualize it.\n",
    "\n",
    "--rapidnj of NORW, iqtree -k 100 --rapidnj of nn possibilities, k -100 --concatenate, reanalyse"
   ]
  },
  {
   "cell_type": "code",
   "execution_count": null,
   "id": "f7fe5e73",
   "metadata": {},
   "outputs": [],
   "source": [
    "! norwseqs=/home/ubuntu/20220217/peroba_align.220209_173253.NORW.20210901_20211230.aln #multiline\n",
    "! refseqs=/home/ubuntu/20220217/reduced_refs_no_overlap.aln #also multiline\n",
    "! results=/home/ubuntu/20220228\n",
    "! mkdir ${results}"
   ]
  },
  {
   "cell_type": "markdown",
   "id": "03109a52",
   "metadata": {},
   "source": [
    "Linearize them so it's nicer:"
   ]
  },
  {
   "cell_type": "code",
   "execution_count": null,
   "id": "5768fd45",
   "metadata": {},
   "outputs": [],
   "source": [
    "! awk '/^>/ {printf(\"\\n%s\\n\",$0);next; } { printf(\"%s\",$0);}  END {printf(\"\\n\");}' < ${norwseqs} | sed '1d' > ${results}/NORW.aln\n",
    "! awk '/^>/ {printf(\"\\n%s\\n\",$0);next; } { printf(\"%s\",$0);}  END {printf(\"\\n\");}' < ${refseqs} | sed '1d' > ${results}/refs.aln"
   ]
  },
  {
   "cell_type": "markdown",
   "id": "40a036b0",
   "metadata": {},
   "source": [
    "Find most diverse 100 sequences in NORW:"
   ]
  },
  {
   "cell_type": "code",
   "execution_count": null,
   "id": "1a1859ff",
   "metadata": {},
   "outputs": [],
   "source": [
    "! rapidnj ${results}/NORW.aln -i fa -t d -n -c 8 -o t -x ${results}/NORW.aln.tre\n",
    "! iqtree -k 100 ${results}/NORW.aln.tre\n",
    "! grep -A 100 \"The optimal PD set has 100 taxa:\" ${results}/NORW.aln.tre.pda | sed '1d'  | sed 's/^.//;s/.$//;s/_/\\//;s/_/\\//' | sort | uniq > ${results}/norw_100.txt\n",
    "! grep -w -A 1 -f ${results}/norw_100.txt ${results}/NORW.aln --no-group-separator > ${results}/norw_100.aln"
   ]
  },
  {
   "cell_type": "markdown",
   "id": "ca792895",
   "metadata": {},
   "source": [
    "Find the 50 most diverse refs:"
   ]
  },
  {
   "cell_type": "code",
   "execution_count": null,
   "id": "c3769450",
   "metadata": {},
   "outputs": [],
   "source": [
    "! rapidnj ${results}/refs.aln -i fa -t d -n -c 8 -o t -x ${results}/refs.aln.tre\n",
    "! iqtree -k 50 ${results}/refs.aln.tre\n",
    "! grep -A 50 \"The optimal PD set has 50 taxa:\" ${results}/refs.aln.tre.pda | sed '1d'  | sed 's/^.//;s/.$//;s/_/\\//;s/_/\\//' | sort | uniq > ${results}/ref_50.txt\n",
    "! grep -w -A 1 -f ${results}/ref_50.txt ${results}/refs.aln --no-group-separator > ${results}/ref_50.aln"
   ]
  },
  {
   "cell_type": "markdown",
   "id": "6c0e7cde",
   "metadata": {},
   "source": [
    "Make a tree out of the 50 most diverse refs:"
   ]
  },
  {
   "cell_type": "code",
   "execution_count": null,
   "id": "561c153b",
   "metadata": {},
   "outputs": [],
   "source": [
    "! iqtree -s ${results}/ref_50.aln"
   ]
  },
  {
   "cell_type": "markdown",
   "id": "31bc38de",
   "metadata": {},
   "source": [
    "Make a tree out of everything using the refs as the backbone:"
   ]
  },
  {
   "cell_type": "code",
   "execution_count": null,
   "id": "2f12d115",
   "metadata": {},
   "outputs": [],
   "source": [
    "! cat ${results}/ref_50.aln ${results}/norw_100.aln > ${results}/allseqs.aln\n",
    "! iqtree -s ${results}/allseqs.aln -m HKY+G -g ${results}/ref_50.aln.treefile -t PARS\n",
    "#/home/ubuntu/20220228/allseqs.aln.treefile"
   ]
  },
  {
   "cell_type": "markdown",
   "id": "d9bd6c26",
   "metadata": {},
   "source": [
    "Get treetime things ready:"
   ]
  },
  {
   "cell_type": "code",
   "execution_count": null,
   "id": "575c8cfa",
   "metadata": {},
   "outputs": [],
   "source": [
    "! grep \"England\" ${results}/allseqs.aln | sed 's/>//g' > ${results}/leaftips.txt"
   ]
  },
  {
   "cell_type": "code",
   "execution_count": null,
   "id": "47f73079",
   "metadata": {},
   "outputs": [],
   "source": [
    "#metadata /home/ubuntu/20220217/peroba_meta.220209_173253.England.20210701_20220228.tsv\n",
    "\n",
    "python /home/ubuntu/scripts/get_treetime_dates.py --metadata_tsv fritest2.tsv --leaftips /home/ubuntu/20220228/leaftips.txt --out /home/ubuntu/20220228/treetime_dates.tsv"
   ]
  },
  {
   "cell_type": "code",
   "execution_count": null,
   "id": "69cdc9d6",
   "metadata": {},
   "outputs": [],
   "source": [
    "sed -i 's/\\//_/g' ${results}/allseqs.aln"
   ]
  },
  {
   "cell_type": "markdown",
   "id": "646d7f66",
   "metadata": {},
   "source": [
    "run mugration:"
   ]
  },
  {
   "cell_type": "code",
   "execution_count": null,
   "id": "472ce732",
   "metadata": {},
   "outputs": [],
   "source": [
    "treetime mugration --tree ${results}/allseqs.aln.treefile --states ${results}/treetime_dates.tsv --attribute 'region' --outdir ${results}/timetree-mugration-region"
   ]
  },
  {
   "cell_type": "markdown",
   "id": "9318ba7b",
   "metadata": {},
   "source": [
    "rats, still no mugration annotations, they're too similar."
   ]
  },
  {
   "cell_type": "markdown",
   "id": "73060201",
   "metadata": {},
   "source": [
    "note: in my cog-uk notebook, even though some branch lengths were 0, it still annotated the nexus tree.  probably it knew they were all NORW though and didn't care.  let's try making this one all the same too and see what happens:"
   ]
  },
  {
   "cell_type": "code",
   "execution_count": null,
   "id": "0943ee85",
   "metadata": {},
   "outputs": [],
   "source": [
    "treetime mugration --tree ${results}/allseqs.aln.treefile --states ${results}/treetime_dates_meddled.tsv --attribute 'country' --outdir ${results}/timetree-mugration-region"
   ]
  },
  {
   "cell_type": "code",
   "execution_count": null,
   "id": "09ad9a40",
   "metadata": {},
   "outputs": [],
   "source": [
    "mugration: only one or zero states found -- this doesn't make any sense\n",
    "Mugration inference failed, check error messages above and your input data."
   ]
  },
  {
   "cell_type": "markdown",
   "id": "215aaf14",
   "metadata": {},
   "source": [
    "So...what happened with my other notebook then?  Oh.  That contained the reference that was not from NORW.  Hmm...what happens if I put the reference in?  OH!  I think mugration is supposed to be done on the initial output of treetime.  Will this make a difference?  Maybe not.  I'll see.  Some of the polytomies might be resolved a bit.  In cog-uk I just did it on the output of iqtree."
   ]
  },
  {
   "cell_type": "code",
   "execution_count": null,
   "id": "6a57e313",
   "metadata": {},
   "outputs": [],
   "source": [
    "treetime --tree ${results}/allseqs.aln.treefile --aln ${results}/allseqs.aln --dates ${results}/treetime_dates.tsv --outdir ${results}/treetime"
   ]
  },
  {
   "cell_type": "code",
   "execution_count": null,
   "id": "cf45be56",
   "metadata": {},
   "outputs": [],
   "source": [
    "nohup treetime mugration --tree ${results}/treetime/timetree.nexus --states ${results}/treetime_dates.tsv --attribute 'region' --outdir ${results}/timetree-mugration-region-2"
   ]
  },
  {
   "cell_type": "markdown",
   "id": "3d9b33d7",
   "metadata": {},
   "source": [
    "Still no annotation.  Tomorrow, try BEAST."
   ]
  },
  {
   "cell_type": "code",
   "execution_count": null,
   "id": "14581093",
   "metadata": {},
   "outputs": [],
   "source": [
    "treetime ancestral --aln ${results}/allseqs.aln --tree ${results}/treetime/timetree.nexus --outdir ${results}/ancestral_results"
   ]
  },
  {
   "cell_type": "markdown",
   "id": "a2a1bfe6",
   "metadata": {},
   "source": [
    "**20220301**"
   ]
  },
  {
   "cell_type": "markdown",
   "id": "8fe4d0b4",
   "metadata": {},
   "source": [
    "So, I looked at the 150-sample tree from yesterday (`allseqs.aln.iqtree`) and 75 of the internal branches were near-zero.  I'm going to try and reduce that tree even further to, say, 30 samples total and see what happens then."
   ]
  },
  {
   "cell_type": "code",
   "execution_count": null,
   "id": "c6f46fa6",
   "metadata": {},
   "outputs": [],
   "source": [
    "sed -i 's/_/\\//g' ${results}/allseqs.aln\n",
    "rapidnj ${results}/allseqs.aln -i fa -t d -n -c 8 -o t -x ${results}/allseqs.aln.tre\n",
    "iqtree -k 30 ${results}/allseqs.aln.tre\n",
    "grep -A 30 \"The optimal PD set has 30 taxa:\" ${results}/allseqs.aln.tre.pda | sed '1d'  | sed 's/^.//;s/.$//;s/_/\\//;s/_/\\//' | sort | uniq > ${results}/allseqs_30.txt\n",
    "grep -w -A 1 -f ${results}/allseqs_30.txt ${results}/allseqs.aln --no-group-separator > ${results}/allseqs_30.aln\n",
    "iqtree -s ${results}/allseqs_30.aln\n",
    "\n",
    "grep \"England\" ${results}/allseqs_30.aln | sed 's/>//g' > ${results}/leaftips_30.txt\n",
    "python /home/ubuntu/scripts/get_treetime_dates.py --metadata_tsv fritest2.tsv --leaftips ${results}/leaftips_30.txt --out ${results}/treetime_dates_30.tsv\n",
    "sed -i 's/\\//_/g' ${results}/allseqs_30.aln\n",
    "\n",
    "treetime mugration --tree ${results}/allseqs_30.aln.treefile --states ${results}/treetime_dates_30.tsv --attribute 'region' --outdir ${results}/timetree-mugration-region-3"
   ]
  },
  {
   "cell_type": "markdown",
   "id": "4a5f0519",
   "metadata": {},
   "source": [
    "Looking at `allseqs_30.aln.iqtree`, there are still 21 near-zero internal branches out of 30.  So, the tree actually got less diverse.  Maybe I'm using `iqtree -k` backwards?  Maybe it picks out the least diverse?"
   ]
  },
  {
   "cell_type": "code",
   "execution_count": null,
   "id": "eae3b4e8",
   "metadata": {},
   "outputs": [],
   "source": [
    "sed -i 's/_/\\//g' ${results}/allseqs_30.aln\n",
    "rapidnj ${results}/allseqs_30.aln -i fa -t d -n -c 8 -o t -x ${results}/allseqs_30.aln.tre\n",
    "iqtree -k 10 ${results}/allseqs_30.aln.tre\n",
    "grep -A 10 \"The optimal PD set has 10 taxa:\" ${results}/allseqs_30.aln.tre.pda | sed '1d'  | sed 's/^.//;s/.$//;s/_/\\//;s/_/\\//' | sort | uniq > ${results}/allseqs_10.txt\n",
    "\n",
    "grep -w -A 1 -f ${results}/allseqs_10.txt ${results}/allseqs_30.aln --no-group-separator > ${results}/allseqs_10.aln\n",
    "iqtree -s ${results}/allseqs_10.aln"
   ]
  },
  {
   "cell_type": "markdown",
   "id": "9ae8c62e",
   "metadata": {},
   "source": [
    "This gives 3/10 near-zero branches."
   ]
  },
  {
   "cell_type": "code",
   "execution_count": null,
   "id": "458eb562",
   "metadata": {},
   "outputs": [],
   "source": [
    "grep \"England\" ${results}/allseqs_10.aln | sed 's/>//g' > ${results}/leaftips_10.txt\n",
    "python /home/ubuntu/scripts/get_treetime_dates.py --metadata_tsv fritest2.tsv --leaftips ${results}/leaftips_10.txt --out ${results}/treetime_dates_10.tsv\n",
    "sed -i 's/\\//_/g' ${results}/allseqs_10.aln\n",
    "\n",
    "treetime mugration --tree ${results}/allseqs_10.aln.treefile --states ${results}/treetime_dates_10.tsv --attribute 'region' --outdir ${results}/timetree-mugration-region-4"
   ]
  },
  {
   "cell_type": "markdown",
   "id": "29a9a411",
   "metadata": {},
   "source": [
    "No annotation there either."
   ]
  },
  {
   "cell_type": "markdown",
   "id": "8959bb33",
   "metadata": {},
   "source": [
    "Maybe it's my version of `iqtree`.  Try switching to `iqtree2` anyway to match the others.  I'm hitting errors with a missing cmake file..."
   ]
  },
  {
   "cell_type": "code",
   "execution_count": null,
   "id": "844efa0f",
   "metadata": {},
   "outputs": [],
   "source": [
    "treetime mugration --tree ${results}/allseqs_10.aln.treefile --states ${results}/treetime_dates_10.tsv --attribute 'region' --confidence --outdir ${results}/timetree-mugration-region-5"
   ]
  },
  {
   "cell_type": "markdown",
   "id": "4d87067b",
   "metadata": {},
   "source": [
    "OK!  If running with `--confidence`, it gives a table with highest likelihood of each state for each internal node.  If the trees are blank I can just use this.  Also, probably best to run treetime once with the relaxed clock and things and then rerun mugration on the output of that."
   ]
  },
  {
   "cell_type": "markdown",
   "id": "e6cde4c1",
   "metadata": {},
   "source": [
    "**20220302**"
   ]
  },
  {
   "cell_type": "code",
   "execution_count": null,
   "id": "470da3e6",
   "metadata": {},
   "outputs": [],
   "source": [
    "sed -i 's/\\//_/g' ${results}/allseqs_30.aln\n",
    "treetime --relax 1.0 0 --clock-rate 0.008 --aln ${results}/allseqs_30.aln --tree ${results}/allseqs_30.aln.treefile --dates ${results}/treetime_dates_30.tsv --confidence --outdir ${results}/timetree-madeline\n",
    "treetime mugration --tree ${results}/timetree-madeline/timetree.nexus --states ${results}/treetime_dates_30.tsv --attribute 'region' --confidence --outdir ${results}/timetree-madeline/mugration"
   ]
  },
  {
   "cell_type": "markdown",
   "id": "8b538e71",
   "metadata": {},
   "source": [
    "tree: /home/ubuntu/20220228/timetree-madeline/mugration/annotated_tree.nexus\n",
    "\n",
    "confidence: /home/ubuntu/20220228/timetree-madeline/mugration/confidence.csv\n",
    "\n",
    "metadata: /home/ubuntu/20220228/treetime_dates_30.tsv"
   ]
  },
  {
   "cell_type": "code",
   "execution_count": null,
   "id": "1e9bc58c",
   "metadata": {},
   "outputs": [],
   "source": []
  }
 ],
 "metadata": {
  "kernelspec": {
   "display_name": "Python 3",
   "language": "python",
   "name": "python3"
  },
  "language_info": {
   "codemirror_mode": {
    "name": "ipython",
    "version": 3
   },
   "file_extension": ".py",
   "mimetype": "text/x-python",
   "name": "python",
   "nbconvert_exporter": "python",
   "pygments_lexer": "ipython3",
   "version": "3.7.10"
  }
 },
 "nbformat": 4,
 "nbformat_minor": 5
}
