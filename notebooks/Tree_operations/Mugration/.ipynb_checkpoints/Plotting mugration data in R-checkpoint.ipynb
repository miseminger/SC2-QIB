{
 "cells": [
  {
   "cell_type": "markdown",
   "id": "66d694d0",
   "metadata": {},
   "source": [
    "04-05-22: The files mentioned here no longer exist; this notebook is just for an example (I didn't end up using it).\n",
    "\n",
    "The purpose of this notebook is to make an annotated phylogenetic tree plot based on `210717.lebanon.table_tree.html`, using 75 sequences from Norwich and surrounding England.\n",
    "\n",
    "tree: `/home/ubuntu/20220228/timetree-madeline/mugration/annotated_tree.nexus`\n",
    "confidence: `/home/ubuntu/20220228/timetree-madeline/mugration/confidence.csv`\n",
    "metadata: `/home/ubuntu/20220228/treetime_dates_30.tsv`"
   ]
  },
  {
   "cell_type": "code",
   "execution_count": 20,
   "id": "8e8d4c5e",
   "metadata": {},
   "outputs": [],
   "source": [
    "library(phangorn)\n",
    "library(ggtreeExtra)\n",
    "library(ggtree)\n",
    "library(ggnewscale)\n",
    "library(colorspace);\n",
    "library(RColorBrewer);\n",
    "library(dplyr)\n",
    "library(tidyr)\n",
    "library(ggplot2)\n",
    "library(ggpubr)\n",
    "library(stringr)\n",
    "library(castor)\n",
    "library(lubridate)\n",
    "library(ramify)\n",
    "library(ape)"
   ]
  },
  {
   "cell_type": "code",
   "execution_count": 21,
   "id": "13e66f7a",
   "metadata": {},
   "outputs": [],
   "source": [
    "tree <- \"../../data/mugration_plot/annotated_tree.nexus\"\n",
    "confidence <- \"../../data/mugration_plot/confidence.csv\"\n",
    "metadata <- \"../../data/mugration_plot/treetime_dates_30.tsv\"\n",
    "gtr <- \"../../data/mugration_plot/GTR.txt\"\n",
    "pango <- \"../../data/mugration_plot/lineage_report.csv\"\n",
    "cog_uk_meta <- \"../../data/COG-UK-data/cog_global_2022-04-18_metadata.csv.xz\""
   ]
  },
  {
   "cell_type": "code",
   "execution_count": 22,
   "id": "0b9c6f5d",
   "metadata": {},
   "outputs": [],
   "source": [
    "tre0 <- read.nexus(tree) #timetree mugration output\n",
    "tbl00 <- read.csv(metadata,sep=\"\\t\")\n",
    "tbl0 <- read.csv(\"../../peroba_meta.220209_173253.tsv.xz\", sep=\"\\t\")\n",
    "tbl1 <- read.csv(confidence)"
   ]
  },
  {
   "cell_type": "code",
   "execution_count": 23,
   "id": "246da3c1",
   "metadata": {},
   "outputs": [
    {
     "data": {
      "text/html": [
       "<table class=\"dataframe\">\n",
       "<caption>A data.frame: 3 × 14</caption>\n",
       "<thead>\n",
       "\t<tr><th></th><th scope=col>strain</th><th scope=col>gisaid_id</th><th scope=col>date</th><th scope=col>location</th><th scope=col>location_gisaid</th><th scope=col>location_coguk</th><th scope=col>age</th><th scope=col>gender</th><th scope=col>gisaid_clade</th><th scope=col>pango_lineage</th><th scope=col>timestamp</th><th scope=col>freq_ACGT</th><th scope=col>freq_N</th><th scope=col>seq_hash</th></tr>\n",
       "\t<tr><th></th><th scope=col>&lt;chr&gt;</th><th scope=col>&lt;chr&gt;</th><th scope=col>&lt;chr&gt;</th><th scope=col>&lt;chr&gt;</th><th scope=col>&lt;chr&gt;</th><th scope=col>&lt;lgl&gt;</th><th scope=col>&lt;chr&gt;</th><th scope=col>&lt;chr&gt;</th><th scope=col>&lt;chr&gt;</th><th scope=col>&lt;chr&gt;</th><th scope=col>&lt;dbl&gt;</th><th scope=col>&lt;int&gt;</th><th scope=col>&lt;int&gt;</th><th scope=col>&lt;chr&gt;</th></tr>\n",
       "</thead>\n",
       "<tbody>\n",
       "\t<tr><th scope=row>1</th><td>Albania/CO-00602-XXK000_1740_3/2021</td><td>EPI_ISL_9237997</td><td>2021-12-03</td><td>Europe / Albania / Tropoje</td><td>Europe/Albania/Tropoje</td><td>NA</td><td>85</td><td>Male  </td><td>GK</td><td>AY.4 </td><td>220210.1</td><td>27971</td><td>1932</td><td>9f91794c</td></tr>\n",
       "\t<tr><th scope=row>2</th><td>Albania/CO-00602-XXK000_1787_3/2021</td><td>EPI_ISL_9237972</td><td>2021-12-06</td><td>Europe / Albania / Krume  </td><td>Europe/Albania/Krume  </td><td>NA</td><td>? </td><td>Male  </td><td>GK</td><td>AY.43</td><td>220210.1</td><td>29557</td><td> 346</td><td>ec4ce6c5</td></tr>\n",
       "\t<tr><th scope=row>3</th><td>Albania/CO-00602-XXK000_1950_3/2021</td><td>EPI_ISL_9238008</td><td>2021-12-13</td><td>Europe / Albania / Tropoje</td><td>Europe/Albania/Tropoje</td><td>NA</td><td>72</td><td>Female</td><td>GK</td><td>AY.46</td><td>220210.1</td><td>29170</td><td> 733</td><td>d3a175e0</td></tr>\n",
       "</tbody>\n",
       "</table>\n"
      ],
      "text/latex": [
       "A data.frame: 3 × 14\n",
       "\\begin{tabular}{r|llllllllllllll}\n",
       "  & strain & gisaid\\_id & date & location & location\\_gisaid & location\\_coguk & age & gender & gisaid\\_clade & pango\\_lineage & timestamp & freq\\_ACGT & freq\\_N & seq\\_hash\\\\\n",
       "  & <chr> & <chr> & <chr> & <chr> & <chr> & <lgl> & <chr> & <chr> & <chr> & <chr> & <dbl> & <int> & <int> & <chr>\\\\\n",
       "\\hline\n",
       "\t1 & Albania/CO-00602-XXK000\\_1740\\_3/2021 & EPI\\_ISL\\_9237997 & 2021-12-03 & Europe / Albania / Tropoje & Europe/Albania/Tropoje & NA & 85 & Male   & GK & AY.4  & 220210.1 & 27971 & 1932 & 9f91794c\\\\\n",
       "\t2 & Albania/CO-00602-XXK000\\_1787\\_3/2021 & EPI\\_ISL\\_9237972 & 2021-12-06 & Europe / Albania / Krume   & Europe/Albania/Krume   & NA & ?  & Male   & GK & AY.43 & 220210.1 & 29557 &  346 & ec4ce6c5\\\\\n",
       "\t3 & Albania/CO-00602-XXK000\\_1950\\_3/2021 & EPI\\_ISL\\_9238008 & 2021-12-13 & Europe / Albania / Tropoje & Europe/Albania/Tropoje & NA & 72 & Female & GK & AY.46 & 220210.1 & 29170 &  733 & d3a175e0\\\\\n",
       "\\end{tabular}\n"
      ],
      "text/markdown": [
       "\n",
       "A data.frame: 3 × 14\n",
       "\n",
       "| <!--/--> | strain &lt;chr&gt; | gisaid_id &lt;chr&gt; | date &lt;chr&gt; | location &lt;chr&gt; | location_gisaid &lt;chr&gt; | location_coguk &lt;lgl&gt; | age &lt;chr&gt; | gender &lt;chr&gt; | gisaid_clade &lt;chr&gt; | pango_lineage &lt;chr&gt; | timestamp &lt;dbl&gt; | freq_ACGT &lt;int&gt; | freq_N &lt;int&gt; | seq_hash &lt;chr&gt; |\n",
       "|---|---|---|---|---|---|---|---|---|---|---|---|---|---|---|\n",
       "| 1 | Albania/CO-00602-XXK000_1740_3/2021 | EPI_ISL_9237997 | 2021-12-03 | Europe / Albania / Tropoje | Europe/Albania/Tropoje | NA | 85 | Male   | GK | AY.4  | 220210.1 | 27971 | 1932 | 9f91794c |\n",
       "| 2 | Albania/CO-00602-XXK000_1787_3/2021 | EPI_ISL_9237972 | 2021-12-06 | Europe / Albania / Krume   | Europe/Albania/Krume   | NA | ?  | Male   | GK | AY.43 | 220210.1 | 29557 |  346 | ec4ce6c5 |\n",
       "| 3 | Albania/CO-00602-XXK000_1950_3/2021 | EPI_ISL_9238008 | 2021-12-13 | Europe / Albania / Tropoje | Europe/Albania/Tropoje | NA | 72 | Female | GK | AY.46 | 220210.1 | 29170 |  733 | d3a175e0 |\n",
       "\n"
      ],
      "text/plain": [
       "  strain                              gisaid_id       date      \n",
       "1 Albania/CO-00602-XXK000_1740_3/2021 EPI_ISL_9237997 2021-12-03\n",
       "2 Albania/CO-00602-XXK000_1787_3/2021 EPI_ISL_9237972 2021-12-06\n",
       "3 Albania/CO-00602-XXK000_1950_3/2021 EPI_ISL_9238008 2021-12-13\n",
       "  location                   location_gisaid        location_coguk age gender\n",
       "1 Europe / Albania / Tropoje Europe/Albania/Tropoje NA             85  Male  \n",
       "2 Europe / Albania / Krume   Europe/Albania/Krume   NA             ?   Male  \n",
       "3 Europe / Albania / Tropoje Europe/Albania/Tropoje NA             72  Female\n",
       "  gisaid_clade pango_lineage timestamp freq_ACGT freq_N seq_hash\n",
       "1 GK           AY.4          220210.1  27971     1932   9f91794c\n",
       "2 GK           AY.43         220210.1  29557      346   ec4ce6c5\n",
       "3 GK           AY.46         220210.1  29170      733   d3a175e0"
      ]
     },
     "metadata": {},
     "output_type": "display_data"
    }
   ],
   "source": [
    "head(tbl0,3)"
   ]
  },
  {
   "cell_type": "code",
   "execution_count": 24,
   "id": "36b59bd9",
   "metadata": {},
   "outputs": [
    {
     "data": {
      "text/html": [
       "<table class=\"dataframe\">\n",
       "<caption>A data.frame: 3 × 15</caption>\n",
       "<thead>\n",
       "\t<tr><th></th><th scope=col>central_sample_id</th><th scope=col>sequence_name</th><th scope=col>secondary_identifier</th><th scope=col>sample_date</th><th scope=col>epi_week</th><th scope=col>country</th><th scope=col>adm1</th><th scope=col>is_surveillance</th><th scope=col>is_travel_history</th><th scope=col>travel_history</th><th scope=col>lineage</th><th scope=col>lineage_support</th><th scope=col>uk_lineage</th><th scope=col>del_lineage</th><th scope=col>phylotype</th></tr>\n",
       "\t<tr><th></th><th scope=col>&lt;chr&gt;</th><th scope=col>&lt;chr&gt;</th><th scope=col>&lt;lgl&gt;</th><th scope=col>&lt;chr&gt;</th><th scope=col>&lt;lgl&gt;</th><th scope=col>&lt;chr&gt;</th><th scope=col>&lt;chr&gt;</th><th scope=col>&lt;chr&gt;</th><th scope=col>&lt;lgl&gt;</th><th scope=col>&lt;chr&gt;</th><th scope=col>&lt;chr&gt;</th><th scope=col>&lt;dbl&gt;</th><th scope=col>&lt;chr&gt;</th><th scope=col>&lt;chr&gt;</th><th scope=col>&lt;chr&gt;</th></tr>\n",
       "</thead>\n",
       "<tbody>\n",
       "\t<tr><th scope=row>1</th><td></td><td>Australia/VIC473/2020</td><td>NA</td><td>2020-03-28</td><td>NA</td><td>Australia</td><td>Victoria       </td><td></td><td>NA</td><td></td><td>B.1.1.162</td><td>1</td><td></td><td></td><td></td></tr>\n",
       "\t<tr><th scope=row>2</th><td></td><td>Australia/VIC476/2020</td><td>NA</td><td>2020-03-28</td><td>NA</td><td>Australia</td><td>Victoria       </td><td></td><td>NA</td><td></td><td>B.1.23   </td><td>1</td><td></td><td></td><td></td></tr>\n",
       "\t<tr><th scope=row>3</th><td></td><td>Australia/NSW14/2020 </td><td>NA</td><td>2020-03-03</td><td>NA</td><td>Australia</td><td>New_South_Wales</td><td></td><td>NA</td><td></td><td>B.4      </td><td>1</td><td></td><td></td><td></td></tr>\n",
       "</tbody>\n",
       "</table>\n"
      ],
      "text/latex": [
       "A data.frame: 3 × 15\n",
       "\\begin{tabular}{r|lllllllllllllll}\n",
       "  & central\\_sample\\_id & sequence\\_name & secondary\\_identifier & sample\\_date & epi\\_week & country & adm1 & is\\_surveillance & is\\_travel\\_history & travel\\_history & lineage & lineage\\_support & uk\\_lineage & del\\_lineage & phylotype\\\\\n",
       "  & <chr> & <chr> & <lgl> & <chr> & <lgl> & <chr> & <chr> & <chr> & <lgl> & <chr> & <chr> & <dbl> & <chr> & <chr> & <chr>\\\\\n",
       "\\hline\n",
       "\t1 &  & Australia/VIC473/2020 & NA & 2020-03-28 & NA & Australia & Victoria        &  & NA &  & B.1.1.162 & 1 &  &  & \\\\\n",
       "\t2 &  & Australia/VIC476/2020 & NA & 2020-03-28 & NA & Australia & Victoria        &  & NA &  & B.1.23    & 1 &  &  & \\\\\n",
       "\t3 &  & Australia/NSW14/2020  & NA & 2020-03-03 & NA & Australia & New\\_South\\_Wales &  & NA &  & B.4       & 1 &  &  & \\\\\n",
       "\\end{tabular}\n"
      ],
      "text/markdown": [
       "\n",
       "A data.frame: 3 × 15\n",
       "\n",
       "| <!--/--> | central_sample_id &lt;chr&gt; | sequence_name &lt;chr&gt; | secondary_identifier &lt;lgl&gt; | sample_date &lt;chr&gt; | epi_week &lt;lgl&gt; | country &lt;chr&gt; | adm1 &lt;chr&gt; | is_surveillance &lt;chr&gt; | is_travel_history &lt;lgl&gt; | travel_history &lt;chr&gt; | lineage &lt;chr&gt; | lineage_support &lt;dbl&gt; | uk_lineage &lt;chr&gt; | del_lineage &lt;chr&gt; | phylotype &lt;chr&gt; |\n",
       "|---|---|---|---|---|---|---|---|---|---|---|---|---|---|---|---|\n",
       "| 1 | <!----> | Australia/VIC473/2020 | NA | 2020-03-28 | NA | Australia | Victoria        | <!----> | NA | <!----> | B.1.1.162 | 1 | <!----> | <!----> | <!----> |\n",
       "| 2 | <!----> | Australia/VIC476/2020 | NA | 2020-03-28 | NA | Australia | Victoria        | <!----> | NA | <!----> | B.1.23    | 1 | <!----> | <!----> | <!----> |\n",
       "| 3 | <!----> | Australia/NSW14/2020  | NA | 2020-03-03 | NA | Australia | New_South_Wales | <!----> | NA | <!----> | B.4       | 1 | <!----> | <!----> | <!----> |\n",
       "\n"
      ],
      "text/plain": [
       "  central_sample_id sequence_name         secondary_identifier sample_date\n",
       "1                   Australia/VIC473/2020 NA                   2020-03-28 \n",
       "2                   Australia/VIC476/2020 NA                   2020-03-28 \n",
       "3                   Australia/NSW14/2020  NA                   2020-03-03 \n",
       "  epi_week country   adm1            is_surveillance is_travel_history\n",
       "1 NA       Australia Victoria                        NA               \n",
       "2 NA       Australia Victoria                        NA               \n",
       "3 NA       Australia New_South_Wales                 NA               \n",
       "  travel_history lineage   lineage_support uk_lineage del_lineage phylotype\n",
       "1                B.1.1.162 1                                               \n",
       "2                B.1.23    1                                               \n",
       "3                B.4       1                                               "
      ]
     },
     "metadata": {},
     "output_type": "display_data"
    }
   ],
   "source": [
    "cog <- read.csv(cog_uk_meta, sep=\",\")\n",
    "head(cog,3)\n"
   ]
  },
  {
   "cell_type": "code",
   "execution_count": 31,
   "id": "b7d19039",
   "metadata": {},
   "outputs": [],
   "source": [
    "treetips <- str_replace(tre0$tip.label, \"_\", \"/\")\n",
    "cog <- cog[ cog$sequence_name %in% treetips,] #subset the big .xz file by your leaf tips"
   ]
  },
  {
   "cell_type": "code",
   "execution_count": 32,
   "id": "630d5fd3",
   "metadata": {},
   "outputs": [
    {
     "data": {
      "text/html": [
       "<table class=\"dataframe\">\n",
       "<caption>A data.frame: 0 × 15</caption>\n",
       "<thead>\n",
       "\t<tr><th scope=col>central_sample_id</th><th scope=col>sequence_name</th><th scope=col>secondary_identifier</th><th scope=col>sample_date</th><th scope=col>epi_week</th><th scope=col>country</th><th scope=col>adm1</th><th scope=col>is_surveillance</th><th scope=col>is_travel_history</th><th scope=col>travel_history</th><th scope=col>lineage</th><th scope=col>lineage_support</th><th scope=col>uk_lineage</th><th scope=col>del_lineage</th><th scope=col>phylotype</th></tr>\n",
       "\t<tr><th scope=col>&lt;chr&gt;</th><th scope=col>&lt;chr&gt;</th><th scope=col>&lt;lgl&gt;</th><th scope=col>&lt;chr&gt;</th><th scope=col>&lt;lgl&gt;</th><th scope=col>&lt;chr&gt;</th><th scope=col>&lt;chr&gt;</th><th scope=col>&lt;chr&gt;</th><th scope=col>&lt;lgl&gt;</th><th scope=col>&lt;chr&gt;</th><th scope=col>&lt;chr&gt;</th><th scope=col>&lt;dbl&gt;</th><th scope=col>&lt;chr&gt;</th><th scope=col>&lt;chr&gt;</th><th scope=col>&lt;chr&gt;</th></tr>\n",
       "</thead>\n",
       "<tbody>\n",
       "</tbody>\n",
       "</table>\n"
      ],
      "text/latex": [
       "A data.frame: 0 × 15\n",
       "\\begin{tabular}{lllllllllllllll}\n",
       " central\\_sample\\_id & sequence\\_name & secondary\\_identifier & sample\\_date & epi\\_week & country & adm1 & is\\_surveillance & is\\_travel\\_history & travel\\_history & lineage & lineage\\_support & uk\\_lineage & del\\_lineage & phylotype\\\\\n",
       " <chr> & <chr> & <lgl> & <chr> & <lgl> & <chr> & <chr> & <chr> & <lgl> & <chr> & <chr> & <dbl> & <chr> & <chr> & <chr>\\\\\n",
       "\\hline\n",
       "\\end{tabular}\n"
      ],
      "text/markdown": [
       "\n",
       "A data.frame: 0 × 15\n",
       "\n",
       "| central_sample_id &lt;chr&gt; | sequence_name &lt;chr&gt; | secondary_identifier &lt;lgl&gt; | sample_date &lt;chr&gt; | epi_week &lt;lgl&gt; | country &lt;chr&gt; | adm1 &lt;chr&gt; | is_surveillance &lt;chr&gt; | is_travel_history &lt;lgl&gt; | travel_history &lt;chr&gt; | lineage &lt;chr&gt; | lineage_support &lt;dbl&gt; | uk_lineage &lt;chr&gt; | del_lineage &lt;chr&gt; | phylotype &lt;chr&gt; |\n",
       "|---|---|---|---|---|---|---|---|---|---|---|---|---|---|---|\n",
       "\n"
      ],
      "text/plain": [
       "     central_sample_id sequence_name secondary_identifier sample_date epi_week\n",
       "     country adm1 is_surveillance is_travel_history travel_history lineage\n",
       "     lineage_support uk_lineage del_lineage phylotype"
      ]
     },
     "metadata": {},
     "output_type": "display_data"
    }
   ],
   "source": [
    "head(cog,3)"
   ]
  },
  {
   "cell_type": "markdown",
   "id": "dadb3c9f",
   "metadata": {},
   "source": [
    "Make a dataframe with the sample names and the GTR letter code with the highest likelihood for each:"
   ]
  },
  {
   "cell_type": "code",
   "execution_count": 27,
   "id": "d45451a2",
   "metadata": {},
   "outputs": [],
   "source": [
    "df <- data.frame(tbl1)\n",
    "Node <- as.character(df[,'X.name'])\n",
    "\n",
    "df$X.name <- NULL\n",
    "Letter <- colnames(df)[max.col(df,ties.method=\"first\")]\n",
    "\n",
    "dataset1 <- as.data.frame(cbind(Node, Letter))"
   ]
  },
  {
   "cell_type": "markdown",
   "id": "f4778b1c",
   "metadata": {},
   "source": [
    "Map the 4-letter region codes to this dataframe:\n",
    "\n",
    "  K: ?\n",
    "  A: ALDP\n",
    "  B: HSLL\n",
    "  C: LOND\n",
    "  D: LSPA\n",
    "  E: MILK\n",
    "  F: NORW\n",
    "  G: PHEC\n",
    "  H: PHWC\n",
    "  I: PLYM\n",
    "  J: QEUH"
   ]
  },
  {
   "cell_type": "code",
   "execution_count": 28,
   "id": "618fbc80",
   "metadata": {},
   "outputs": [
    {
     "data": {
      "text/html": [
       "<table class=\"dataframe\">\n",
       "<caption>A data.frame: 44 × 3</caption>\n",
       "<thead>\n",
       "\t<tr><th scope=col>Letter</th><th scope=col>Region</th><th scope=col>Node</th></tr>\n",
       "\t<tr><th scope=col>&lt;chr&gt;</th><th scope=col>&lt;chr&gt;</th><th scope=col>&lt;chr&gt;</th></tr>\n",
       "</thead>\n",
       "<tbody>\n",
       "\t<tr><td>A</td><td>ALDP</td><td>England_ALDP-308C434_2021 </td></tr>\n",
       "\t<tr><td>A</td><td>ALDP</td><td>England_ALDP-30BB6CD_2021 </td></tr>\n",
       "\t<tr><td>A</td><td>ALDP</td><td>England_ALDP-2FE62BA_2021 </td></tr>\n",
       "\t<tr><td>A</td><td>ALDP</td><td>England_ALDP-30910ED_2021 </td></tr>\n",
       "\t<tr><td>A</td><td>ALDP</td><td>England_ALDP-308716F_2021 </td></tr>\n",
       "\t<tr><td>B</td><td>HSLL</td><td>England_HSLL-3411A10_2022 </td></tr>\n",
       "\t<tr><td>C</td><td>LOND</td><td>England_LOND-YYBNE1Q_2022 </td></tr>\n",
       "\t<tr><td>D</td><td>LSPA</td><td>England_LSPA-3096F18_2021 </td></tr>\n",
       "\t<tr><td>E</td><td>MILK</td><td>England_MILK-307D409_2021 </td></tr>\n",
       "\t<tr><td>E</td><td>MILK</td><td>England_MILK-3128D5C_2022 </td></tr>\n",
       "\t<tr><td>F</td><td>NORW</td><td>NODE_0000013              </td></tr>\n",
       "\t<tr><td>F</td><td>NORW</td><td>NODE_0000003              </td></tr>\n",
       "\t<tr><td>F</td><td>NORW</td><td>England_NORW-310B1DB_2021 </td></tr>\n",
       "\t<tr><td>F</td><td>NORW</td><td>England_NORW-3131603_2021 </td></tr>\n",
       "\t<tr><td>F</td><td>NORW</td><td>NODE_0000000              </td></tr>\n",
       "\t<tr><td>F</td><td>NORW</td><td>NODE_0000005              </td></tr>\n",
       "\t<tr><td>F</td><td>NORW</td><td>England_NORW-310A81F_2021 </td></tr>\n",
       "\t<tr><td>F</td><td>NORW</td><td>NODE_0000004              </td></tr>\n",
       "\t<tr><td>F</td><td>NORW</td><td>NODE_0000012              </td></tr>\n",
       "\t<tr><td>F</td><td>NORW</td><td>NODE_0000001              </td></tr>\n",
       "\t<tr><td>F</td><td>NORW</td><td>England_NORW-3134059_2021 </td></tr>\n",
       "\t<tr><td>F</td><td>NORW</td><td>NODE_0000023              </td></tr>\n",
       "\t<tr><td>F</td><td>NORW</td><td>England_NORW-310CD87_2021 </td></tr>\n",
       "\t<tr><td>F</td><td>NORW</td><td>NODE_0000016              </td></tr>\n",
       "\t<tr><td>F</td><td>NORW</td><td>NODE_0000002              </td></tr>\n",
       "\t<tr><td>F</td><td>NORW</td><td>England_NORW-310AC61_2021 </td></tr>\n",
       "\t<tr><td>F</td><td>NORW</td><td>England_NORW-3130981_2021 </td></tr>\n",
       "\t<tr><td>F</td><td>NORW</td><td>England_NORW-310AF34_2021 </td></tr>\n",
       "\t<tr><td>F</td><td>NORW</td><td>England_NORW-3106C6A_2021 </td></tr>\n",
       "\t<tr><td>F</td><td>NORW</td><td>NODE_0000027              </td></tr>\n",
       "\t<tr><td>F</td><td>NORW</td><td>England_NORW-310A207_2021 </td></tr>\n",
       "\t<tr><td>F</td><td>NORW</td><td>England_NORW-31325C9_2021 </td></tr>\n",
       "\t<tr><td>F</td><td>NORW</td><td>England_NORW-3121DE0_2021 </td></tr>\n",
       "\t<tr><td>F</td><td>NORW</td><td>NODE_0000011              </td></tr>\n",
       "\t<tr><td>F</td><td>NORW</td><td>England_NORW-310B970_2021 </td></tr>\n",
       "\t<tr><td>F</td><td>NORW</td><td>England_NORW-310A900_2021 </td></tr>\n",
       "\t<tr><td>F</td><td>NORW</td><td>NODE_0000018              </td></tr>\n",
       "\t<tr><td>G</td><td>PHEC</td><td>England_PHEC-3V068VA5_2021</td></tr>\n",
       "\t<tr><td>G</td><td>PHEC</td><td>England_PHEC-YYB3M8U_2021 </td></tr>\n",
       "\t<tr><td>G</td><td>PHEC</td><td>England_PHEC-3V0B1V3C_2021</td></tr>\n",
       "\t<tr><td>G</td><td>PHEC</td><td>NODE_0000006              </td></tr>\n",
       "\t<tr><td>H</td><td>PHWC</td><td>England_PHWC-PGUS16_2021  </td></tr>\n",
       "\t<tr><td>I</td><td>PLYM</td><td>England_PLYM-2FD8154_2021 </td></tr>\n",
       "\t<tr><td>J</td><td>QEUH</td><td>England_QEUH-329870D_2022 </td></tr>\n",
       "</tbody>\n",
       "</table>\n"
      ],
      "text/latex": [
       "A data.frame: 44 × 3\n",
       "\\begin{tabular}{lll}\n",
       " Letter & Region & Node\\\\\n",
       " <chr> & <chr> & <chr>\\\\\n",
       "\\hline\n",
       "\t A & ALDP & England\\_ALDP-308C434\\_2021 \\\\\n",
       "\t A & ALDP & England\\_ALDP-30BB6CD\\_2021 \\\\\n",
       "\t A & ALDP & England\\_ALDP-2FE62BA\\_2021 \\\\\n",
       "\t A & ALDP & England\\_ALDP-30910ED\\_2021 \\\\\n",
       "\t A & ALDP & England\\_ALDP-308716F\\_2021 \\\\\n",
       "\t B & HSLL & England\\_HSLL-3411A10\\_2022 \\\\\n",
       "\t C & LOND & England\\_LOND-YYBNE1Q\\_2022 \\\\\n",
       "\t D & LSPA & England\\_LSPA-3096F18\\_2021 \\\\\n",
       "\t E & MILK & England\\_MILK-307D409\\_2021 \\\\\n",
       "\t E & MILK & England\\_MILK-3128D5C\\_2022 \\\\\n",
       "\t F & NORW & NODE\\_0000013              \\\\\n",
       "\t F & NORW & NODE\\_0000003              \\\\\n",
       "\t F & NORW & England\\_NORW-310B1DB\\_2021 \\\\\n",
       "\t F & NORW & England\\_NORW-3131603\\_2021 \\\\\n",
       "\t F & NORW & NODE\\_0000000              \\\\\n",
       "\t F & NORW & NODE\\_0000005              \\\\\n",
       "\t F & NORW & England\\_NORW-310A81F\\_2021 \\\\\n",
       "\t F & NORW & NODE\\_0000004              \\\\\n",
       "\t F & NORW & NODE\\_0000012              \\\\\n",
       "\t F & NORW & NODE\\_0000001              \\\\\n",
       "\t F & NORW & England\\_NORW-3134059\\_2021 \\\\\n",
       "\t F & NORW & NODE\\_0000023              \\\\\n",
       "\t F & NORW & England\\_NORW-310CD87\\_2021 \\\\\n",
       "\t F & NORW & NODE\\_0000016              \\\\\n",
       "\t F & NORW & NODE\\_0000002              \\\\\n",
       "\t F & NORW & England\\_NORW-310AC61\\_2021 \\\\\n",
       "\t F & NORW & England\\_NORW-3130981\\_2021 \\\\\n",
       "\t F & NORW & England\\_NORW-310AF34\\_2021 \\\\\n",
       "\t F & NORW & England\\_NORW-3106C6A\\_2021 \\\\\n",
       "\t F & NORW & NODE\\_0000027              \\\\\n",
       "\t F & NORW & England\\_NORW-310A207\\_2021 \\\\\n",
       "\t F & NORW & England\\_NORW-31325C9\\_2021 \\\\\n",
       "\t F & NORW & England\\_NORW-3121DE0\\_2021 \\\\\n",
       "\t F & NORW & NODE\\_0000011              \\\\\n",
       "\t F & NORW & England\\_NORW-310B970\\_2021 \\\\\n",
       "\t F & NORW & England\\_NORW-310A900\\_2021 \\\\\n",
       "\t F & NORW & NODE\\_0000018              \\\\\n",
       "\t G & PHEC & England\\_PHEC-3V068VA5\\_2021\\\\\n",
       "\t G & PHEC & England\\_PHEC-YYB3M8U\\_2021 \\\\\n",
       "\t G & PHEC & England\\_PHEC-3V0B1V3C\\_2021\\\\\n",
       "\t G & PHEC & NODE\\_0000006              \\\\\n",
       "\t H & PHWC & England\\_PHWC-PGUS16\\_2021  \\\\\n",
       "\t I & PLYM & England\\_PLYM-2FD8154\\_2021 \\\\\n",
       "\t J & QEUH & England\\_QEUH-329870D\\_2022 \\\\\n",
       "\\end{tabular}\n"
      ],
      "text/markdown": [
       "\n",
       "A data.frame: 44 × 3\n",
       "\n",
       "| Letter &lt;chr&gt; | Region &lt;chr&gt; | Node &lt;chr&gt; |\n",
       "|---|---|---|\n",
       "| A | ALDP | England_ALDP-308C434_2021  |\n",
       "| A | ALDP | England_ALDP-30BB6CD_2021  |\n",
       "| A | ALDP | England_ALDP-2FE62BA_2021  |\n",
       "| A | ALDP | England_ALDP-30910ED_2021  |\n",
       "| A | ALDP | England_ALDP-308716F_2021  |\n",
       "| B | HSLL | England_HSLL-3411A10_2022  |\n",
       "| C | LOND | England_LOND-YYBNE1Q_2022  |\n",
       "| D | LSPA | England_LSPA-3096F18_2021  |\n",
       "| E | MILK | England_MILK-307D409_2021  |\n",
       "| E | MILK | England_MILK-3128D5C_2022  |\n",
       "| F | NORW | NODE_0000013               |\n",
       "| F | NORW | NODE_0000003               |\n",
       "| F | NORW | England_NORW-310B1DB_2021  |\n",
       "| F | NORW | England_NORW-3131603_2021  |\n",
       "| F | NORW | NODE_0000000               |\n",
       "| F | NORW | NODE_0000005               |\n",
       "| F | NORW | England_NORW-310A81F_2021  |\n",
       "| F | NORW | NODE_0000004               |\n",
       "| F | NORW | NODE_0000012               |\n",
       "| F | NORW | NODE_0000001               |\n",
       "| F | NORW | England_NORW-3134059_2021  |\n",
       "| F | NORW | NODE_0000023               |\n",
       "| F | NORW | England_NORW-310CD87_2021  |\n",
       "| F | NORW | NODE_0000016               |\n",
       "| F | NORW | NODE_0000002               |\n",
       "| F | NORW | England_NORW-310AC61_2021  |\n",
       "| F | NORW | England_NORW-3130981_2021  |\n",
       "| F | NORW | England_NORW-310AF34_2021  |\n",
       "| F | NORW | England_NORW-3106C6A_2021  |\n",
       "| F | NORW | NODE_0000027               |\n",
       "| F | NORW | England_NORW-310A207_2021  |\n",
       "| F | NORW | England_NORW-31325C9_2021  |\n",
       "| F | NORW | England_NORW-3121DE0_2021  |\n",
       "| F | NORW | NODE_0000011               |\n",
       "| F | NORW | England_NORW-310B970_2021  |\n",
       "| F | NORW | England_NORW-310A900_2021  |\n",
       "| F | NORW | NODE_0000018               |\n",
       "| G | PHEC | England_PHEC-3V068VA5_2021 |\n",
       "| G | PHEC | England_PHEC-YYB3M8U_2021  |\n",
       "| G | PHEC | England_PHEC-3V0B1V3C_2021 |\n",
       "| G | PHEC | NODE_0000006               |\n",
       "| H | PHWC | England_PHWC-PGUS16_2021   |\n",
       "| I | PLYM | England_PLYM-2FD8154_2021  |\n",
       "| J | QEUH | England_QEUH-329870D_2022  |\n",
       "\n"
      ],
      "text/plain": [
       "   Letter Region Node                      \n",
       "1  A      ALDP   England_ALDP-308C434_2021 \n",
       "2  A      ALDP   England_ALDP-30BB6CD_2021 \n",
       "3  A      ALDP   England_ALDP-2FE62BA_2021 \n",
       "4  A      ALDP   England_ALDP-30910ED_2021 \n",
       "5  A      ALDP   England_ALDP-308716F_2021 \n",
       "6  B      HSLL   England_HSLL-3411A10_2022 \n",
       "7  C      LOND   England_LOND-YYBNE1Q_2022 \n",
       "8  D      LSPA   England_LSPA-3096F18_2021 \n",
       "9  E      MILK   England_MILK-307D409_2021 \n",
       "10 E      MILK   England_MILK-3128D5C_2022 \n",
       "11 F      NORW   NODE_0000013              \n",
       "12 F      NORW   NODE_0000003              \n",
       "13 F      NORW   England_NORW-310B1DB_2021 \n",
       "14 F      NORW   England_NORW-3131603_2021 \n",
       "15 F      NORW   NODE_0000000              \n",
       "16 F      NORW   NODE_0000005              \n",
       "17 F      NORW   England_NORW-310A81F_2021 \n",
       "18 F      NORW   NODE_0000004              \n",
       "19 F      NORW   NODE_0000012              \n",
       "20 F      NORW   NODE_0000001              \n",
       "21 F      NORW   England_NORW-3134059_2021 \n",
       "22 F      NORW   NODE_0000023              \n",
       "23 F      NORW   England_NORW-310CD87_2021 \n",
       "24 F      NORW   NODE_0000016              \n",
       "25 F      NORW   NODE_0000002              \n",
       "26 F      NORW   England_NORW-310AC61_2021 \n",
       "27 F      NORW   England_NORW-3130981_2021 \n",
       "28 F      NORW   England_NORW-310AF34_2021 \n",
       "29 F      NORW   England_NORW-3106C6A_2021 \n",
       "30 F      NORW   NODE_0000027              \n",
       "31 F      NORW   England_NORW-310A207_2021 \n",
       "32 F      NORW   England_NORW-31325C9_2021 \n",
       "33 F      NORW   England_NORW-3121DE0_2021 \n",
       "34 F      NORW   NODE_0000011              \n",
       "35 F      NORW   England_NORW-310B970_2021 \n",
       "36 F      NORW   England_NORW-310A900_2021 \n",
       "37 F      NORW   NODE_0000018              \n",
       "38 G      PHEC   England_PHEC-3V068VA5_2021\n",
       "39 G      PHEC   England_PHEC-YYB3M8U_2021 \n",
       "40 G      PHEC   England_PHEC-3V0B1V3C_2021\n",
       "41 G      PHEC   NODE_0000006              \n",
       "42 H      PHWC   England_PHWC-PGUS16_2021  \n",
       "43 I      PLYM   England_PLYM-2FD8154_2021 \n",
       "44 J      QEUH   England_QEUH-329870D_2022 "
      ]
     },
     "metadata": {},
     "output_type": "display_data"
    }
   ],
   "source": [
    "Region <- c(\"ALDP\", \"HSLL\", \"LOND\", \"LSPA\", \"MILK\", \"NORW\", \"PHEC\", \"PHWC\", \"PLYM\", \"QEUH\", \"?\")\n",
    "Letter <- c(\"A\", \"B\", \"C\", \"D\", \"E\", \"F\", \"G\", \"H\", \"I\", \"J\", \"K\")\n",
    "\n",
    "dict <- data.frame(Letter, Region)\n",
    "\n",
    "total <- merge(dict,dataset1,by=\"Letter\")\n",
    "\n",
    "total"
   ]
  },
  {
   "cell_type": "code",
   "execution_count": 29,
   "id": "80505136",
   "metadata": {},
   "outputs": [],
   "source": [
    "tbl0$strain <- gsub('/', '_', tbl0$strain) #replace / with _ in strain column to match the leaf tips\n",
    "#head(tbl0$strain, 4)\n",
    "\n",
    "tbl0 <- tbl0[ tbl0$strain %in% tre0$tip.label,] #subset the big peroba.xz file by your leaf tips\n",
    "tbl0 <- tbl0 %>% separate(col=\"location_gisaid\",into=c(\"Continent\",\"Country\",\"Province\"),sep=\"/\")\n",
    "tbl0[tbl0==\"\"] <- NA  ## empty Continent, Country become NA\n",
    "#Leo has more lines to let you choose between location and gisaid_location contents\n",
    "tbl0 <- tbl0 %>% select (strain,date,Continent,Country,Province,gender,age) #keep just the useful columns"
   ]
  },
  {
   "cell_type": "code",
   "execution_count": 30,
   "id": "8ae12a8b",
   "metadata": {},
   "outputs": [
    {
     "name": "stdout",
     "output_type": "stream",
     "text": [
      "dim tbl2 (pangolin lineage report) formated=  30 2"
     ]
    },
    {
     "data": {
      "text/html": [
       "<table class=\"dataframe\">\n",
       "<caption>A data.frame: 3 × 2</caption>\n",
       "<thead>\n",
       "\t<tr><th></th><th scope=col>strain</th><th scope=col>lineage</th></tr>\n",
       "\t<tr><th></th><th scope=col>&lt;chr&gt;</th><th scope=col>&lt;chr&gt;</th></tr>\n",
       "</thead>\n",
       "<tbody>\n",
       "\t<tr><th scope=row>1</th><td>England_ALDP-2FE62BA_2021</td><td>B.1</td></tr>\n",
       "\t<tr><th scope=row>2</th><td>England_ALDP-30BB6CD_2021</td><td>B.1</td></tr>\n",
       "\t<tr><th scope=row>3</th><td>England_LSPA-3096F18_2021</td><td>B.1</td></tr>\n",
       "</tbody>\n",
       "</table>\n"
      ],
      "text/latex": [
       "A data.frame: 3 × 2\n",
       "\\begin{tabular}{r|ll}\n",
       "  & strain & lineage\\\\\n",
       "  & <chr> & <chr>\\\\\n",
       "\\hline\n",
       "\t1 & England\\_ALDP-2FE62BA\\_2021 & B.1\\\\\n",
       "\t2 & England\\_ALDP-30BB6CD\\_2021 & B.1\\\\\n",
       "\t3 & England\\_LSPA-3096F18\\_2021 & B.1\\\\\n",
       "\\end{tabular}\n"
      ],
      "text/markdown": [
       "\n",
       "A data.frame: 3 × 2\n",
       "\n",
       "| <!--/--> | strain &lt;chr&gt; | lineage &lt;chr&gt; |\n",
       "|---|---|---|\n",
       "| 1 | England_ALDP-2FE62BA_2021 | B.1 |\n",
       "| 2 | England_ALDP-30BB6CD_2021 | B.1 |\n",
       "| 3 | England_LSPA-3096F18_2021 | B.1 |\n",
       "\n"
      ],
      "text/plain": [
       "  strain                    lineage\n",
       "1 England_ALDP-2FE62BA_2021 B.1    \n",
       "2 England_ALDP-30BB6CD_2021 B.1    \n",
       "3 England_LSPA-3096F18_2021 B.1    "
      ]
     },
     "metadata": {},
     "output_type": "display_data"
    },
    {
     "name": "stdout",
     "output_type": "stream",
     "text": [
      "Lineages from NORW in order of frequency: "
     ]
    },
    {
     "ename": "ERROR",
     "evalue": "Error in `[.data.frame`(tbl0, \"Region\"): undefined columns selected\n",
     "output_type": "error",
     "traceback": [
      "Error in `[.data.frame`(tbl0, \"Region\"): undefined columns selected\nTraceback:\n",
      "1. tbl0[tbl0[\"Region\"] == \"NORW\", ]",
      "2. `[.data.frame`(tbl0, tbl0[\"Region\"] == \"NORW\", )",
      "3. tbl0[\"Region\"]",
      "4. `[.data.frame`(tbl0, \"Region\")",
      "5. stop(\"undefined columns selected\")"
     ]
    }
   ],
   "source": [
    "#add pangolin strains\n",
    "\n",
    "tbl2 <- read.csv (pango)\n",
    "tbl2 <- tbl2 %>% select (taxon,lineage) %>% rename (strain=taxon)\n",
    "cat(\"dim tbl2 (pangolin lineage report) formated= \", dim(tbl2)); head(tbl2,3)\n",
    "\n",
    "tbl0 <- merge (tbl0, tbl2)\n",
    "\n",
    "cat(\"Lineages from NORW in order of frequency: \")\n",
    "x1 <- tbl0[tbl0[\"Region\"]==\"NORW\",]\n",
    "sort(table(x1[\"lineage\"]), decreasing=TRUE)\n",
    "\n",
    "cat(\"Lineages from !NORW in order of frequency: \")\n",
    "x1 <- tbl0[!tbl0[\"Region\"]==\"NORW\",]\n",
    "sort(table(x1[\"lineage\"]), decreasing=TRUE)"
   ]
  },
  {
   "cell_type": "code",
   "execution_count": null,
   "id": "39b72b9d",
   "metadata": {},
   "outputs": [],
   "source": [
    "tbl0$shortdate <- substring(tbl0$date,1,7)\n",
    "tbl0$Region <- substring(tbl0$strain,9,12)\n",
    "tbl0[tbl0==\"?\"] <- NA\n",
    "\n",
    "# merge rows with same strain  https://stackoverflow.com/a/14283757/204903\n",
    "suppressWarnings( tbl0 <- aggregate(x=tbl0[,!colnames(tbl0) %in% \"strain\"], by=list(strain=tbl0$strain), min, na.rm=TRUE) )\n",
    "\n",
    "tbl0"
   ]
  },
  {
   "cell_type": "markdown",
   "id": "6989b95c",
   "metadata": {},
   "source": [
    "I don't have access to travel history yet, so for the sake of the tree I'll make it up.  Pretend every sample was taken in Norwich and the codes represent the travel history instead."
   ]
  },
  {
   "cell_type": "code",
   "execution_count": null,
   "id": "895856d0",
   "metadata": {},
   "outputs": [],
   "source": [
    "tbl0$local <- \"global\"\n",
    "tbl0[tbl0[\"Region\"]==\"NORW\",\"local\"] <- \"exposure\""
   ]
  },
  {
   "cell_type": "code",
   "execution_count": null,
   "id": "ba5f5a66",
   "metadata": {},
   "outputs": [],
   "source": [
    "#make a new df with the strains as rownames\n",
    "traits <- tbl0 %>% slice(match(tre0$tip.label, strain))\n",
    "rownames(traits) <- traits$strain\n",
    "traits"
   ]
  },
  {
   "cell_type": "markdown",
   "id": "0b371b70",
   "metadata": {},
   "source": [
    "Exposure Plot"
   ]
  },
  {
   "cell_type": "code",
   "execution_count": null,
   "id": "b3616066",
   "metadata": {},
   "outputs": [],
   "source": [
    "groupInfo <- split (tre0$tip.label, traits[\"local\"]); \n",
    "groupInfo <- groupInfo[c(\"qib\",\"exposure\",\"global\")]  ## last is \"ancestral state\", when colouring edges (however colors etc. follow alphabetical order)\n",
    "grouptre <- groupOTU(tre0, groupInfo, group_name=\"group1\")  #ok, probably this is where it merges"
   ]
  },
  {
   "cell_type": "code",
   "execution_count": null,
   "id": "370f037d",
   "metadata": {},
   "outputs": [],
   "source": [
    "groupInfo #a list"
   ]
  },
  {
   "cell_type": "code",
   "execution_count": null,
   "id": "2b1ecfec",
   "metadata": {},
   "outputs": [],
   "source": [
    "grouptre"
   ]
  },
  {
   "cell_type": "code",
   "execution_count": null,
   "id": "a42d2cc7",
   "metadata": {},
   "outputs": [],
   "source": [
    "tre0$node.label"
   ]
  },
  {
   "cell_type": "code",
   "execution_count": null,
   "id": "01a6ced8",
   "metadata": {},
   "outputs": [],
   "source": [
    "class(tre0)"
   ]
  },
  {
   "cell_type": "code",
   "execution_count": null,
   "id": "3b6d7ef8",
   "metadata": {},
   "outputs": [],
   "source": [
    "#general plot options for trees\n",
    "\n",
    "options(repr.plot.width=26, repr.plot.height=20) ; par(oma=c(0,0,0,0)) \n",
    "getPal_country = colorRampPalette( c(brewer.pal(12,\"Set3\"),brewer.pal(8,\"Set1\")) )(length(unique(traits$Country)))\n",
    "getPal_lineage = colorRampPalette( brewer.pal(8,\"Dark2\"))(length(unique(traits$lineage)))  ## RdYlGn Set2\n",
    "getPal_local   = c(\"tomato4\",\"gray60\",\"cadetblue4\")\n",
    "getPal_continent = colorRampPalette( brewer.pal(10,\"BrBG\"))(5)\n",
    "getPal_region = colorRampPalette( c(brewer.pal(12,\"Set3\"),brewer.pal(8,\"Set1\")) )(length(unique(traits$region)))\n",
    "\n",
    "#p <- ggtree (grouptre,  aes(color=group1),size=0.4, layout=\"rectangular\") %<+% traits\n",
    "p <- ggtree (grouptre,  aes(color=group1),size=0.4, layout=\"fan\", open.angle=5) # ,  mrsd=\"2021-07-12\", as.Date = T)  ## most recent date\n",
    "p"
   ]
  },
  {
   "cell_type": "code",
   "execution_count": null,
   "id": "36ee84da",
   "metadata": {},
   "outputs": [],
   "source": [
    "#now do one for Pango\n",
    "\n",
    "groupInfo2 <- split (tre0$tip.label, traits[\"lineage\"]); \n",
    "grouptre2 <- groupOTU(tre0, groupInfo2, group_name=\"group2\")  #ok, probably this is where it merges\n",
    "\n",
    "#p <- ggtree (grouptre,  aes(color=group1),size=0.4, layout=\"rectangular\") %<+% traits\n",
    "p <- ggtree (grouptre2,  aes(color=group2),size=0.4, layout=\"fan\", open.angle=5) # ,  mrsd=\"2021-07-12\", as.Date = T)  ## most recent date\n",
    "p"
   ]
  },
  {
   "cell_type": "code",
   "execution_count": null,
   "id": "515edcfe",
   "metadata": {},
   "outputs": [],
   "source": []
  },
  {
   "cell_type": "markdown",
   "id": "45763436",
   "metadata": {},
   "source": [
    "Combine the nodes and tips into a single dataframe, like `traits`."
   ]
  },
  {
   "cell_type": "code",
   "execution_count": null,
   "id": "09373d6f",
   "metadata": {},
   "outputs": [],
   "source": [
    "names(total)[names(total) == 'Node'] <- 'strain' #rename\n",
    "\n",
    "nodes <- total[ total$strain %in% tre0$node.label,]\n",
    "nodes$Letter <- NULL\n",
    "cols_to_add <- setdiff(names(traits), names(nodes))\n",
    "nodes[ , cols_to_add] <- NA\n",
    "\n",
    "nodes$local <- \"global\"\n",
    "nodes[nodes[\"Region\"]==\"NORW\",\"local\"] <- \"exposure\"\n",
    "\n",
    "rownames(nodes) <- nodes$strain\n",
    "\n",
    "both <- rbind(nodes, traits)\n",
    "\n",
    "both"
   ]
  },
  {
   "cell_type": "code",
   "execution_count": null,
   "id": "64d2636b",
   "metadata": {},
   "outputs": [],
   "source": [
    "groupInfo <- split (c(tre0$tip.label, tre0$node.label), traits[\"local\"]); \n",
    "groupInfo <- groupInfo[c(\"qib\",\"exposure\",\"global\")]  ## last is \"ancestral state\", when colouring edges (however colors etc. follow alphabetical order)\n",
    "grouptre3 <- groupOTU(tre0, groupInfo, group_name=\"group3\")  #ok, probably this is where it merges\n",
    "\n",
    "#p <- ggtree (grouptre,  aes(color=group1),size=0.4, layout=\"rectangular\") %<+% traits\n",
    "p <- ggtree (grouptre3,  aes(color=group3),size=0.4, layout=\"fan\", open.angle=5) # ,  mrsd=\"2021-07-12\", as.Date = T)  ## most recent date\n",
    "p"
   ]
  },
  {
   "cell_type": "code",
   "execution_count": null,
   "id": "66d38366",
   "metadata": {},
   "outputs": [],
   "source": [
    "groupInfo <- split (tre0$tip.label, traits[\"local\"]); \n",
    "groupInfo <- groupInfo[c(\"qib\",\"exposure\",\"global\")]  ## last is \"ancestral state\", when colouring edges (however colors etc. follow alphabetical order)\n",
    "grouptre3 <- groupOTU(tre0, groupInfo, group_name=\"group3\")  #ok, probably this is where it merges\n",
    "\n",
    "#p <- ggtree (grouptre,  aes(color=group1),size=0.4, layout=\"rectangular\") %<+% traits\n",
    "p <- ggtree (grouptre3,  aes(color=group3),size=0.4, layout=\"fan\", open.angle=5) # ,  mrsd=\"2021-07-12\", as.Date = T)  ## most recent date\n",
    "p"
   ]
  },
  {
   "cell_type": "markdown",
   "id": "85837318",
   "metadata": {},
   "source": [
    "# Annotating Nodes"
   ]
  },
  {
   "cell_type": "code",
   "execution_count": null,
   "id": "49342b26",
   "metadata": {},
   "outputs": [],
   "source": [
    "library(TDbook)"
   ]
  },
  {
   "cell_type": "code",
   "execution_count": null,
   "id": "32151e1e",
   "metadata": {},
   "outputs": [],
   "source": [
    "tree_boots"
   ]
  },
  {
   "cell_type": "code",
   "execution_count": null,
   "id": "e66c762d",
   "metadata": {},
   "outputs": [],
   "source": [
    "grouptre3"
   ]
  },
  {
   "cell_type": "code",
   "execution_count": null,
   "id": "9d4f317c",
   "metadata": {},
   "outputs": [],
   "source": [
    "df_inode_data"
   ]
  },
  {
   "cell_type": "code",
   "execution_count": null,
   "id": "7778344d",
   "metadata": {},
   "outputs": [],
   "source": []
  }
 ],
 "metadata": {
  "kernelspec": {
   "display_name": "R",
   "language": "R",
   "name": "ir"
  },
  "language_info": {
   "codemirror_mode": "r",
   "file_extension": ".r",
   "mimetype": "text/x-r-source",
   "name": "R",
   "pygments_lexer": "r",
   "version": "4.1.2"
  }
 },
 "nbformat": 4,
 "nbformat_minor": 5
}
