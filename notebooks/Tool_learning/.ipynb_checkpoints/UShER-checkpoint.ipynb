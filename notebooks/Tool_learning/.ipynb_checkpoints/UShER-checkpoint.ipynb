{
 "cells": [
  {
   "cell_type": "markdown",
   "id": "95a7329a",
   "metadata": {},
   "source": [
    "UShER paper: [https://www.nature.com/articles/s41588-021-00862-7](https://www.nature.com/articles/s41588-021-00862-7)\n",
    "\n",
    "Available at: [https://genome.ucsc.edu/cgi-bin/hgPhyloPlace](https://genome.ucsc.edu/cgi-bin/hgPhyloPlace)"
   ]
  },
  {
   "cell_type": "code",
   "execution_count": null,
   "id": "ce8eeb74",
   "metadata": {},
   "outputs": [],
   "source": []
  }
 ],
 "metadata": {
  "kernelspec": {
   "display_name": "R",
   "language": "R",
   "name": "ir"
  },
  "language_info": {
   "codemirror_mode": "r",
   "file_extension": ".r",
   "mimetype": "text/x-r-source",
   "name": "R",
   "pygments_lexer": "r",
   "version": "4.1.2"
  }
 },
 "nbformat": 4,
 "nbformat_minor": 5
}
