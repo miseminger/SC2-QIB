{
 "cells": [
  {
   "cell_type": "markdown",
   "id": "05ce68ff",
   "metadata": {},
   "source": [
    "Notes from Leo's tutorial on processing Peroba data, February 16, 2022."
   ]
  },
  {
   "cell_type": "markdown",
   "id": "5c0a9bb7",
   "metadata": {},
   "source": [
    "# Incrementally updating GISAID"
   ]
  },
  {
   "cell_type": "markdown",
   "id": "c737ed9b",
   "metadata": {},
   "source": [
    "Every week, all the metadata and sequence data from GISAID gets downloaded as a compressed file.  Then, you can run `peroba` to update your fasta and metadata files with the new information.  The metadata is downloaded as two files: a `tar.xz` with longer names and inaccurate location info, and a `tar.gz` with shorter (NextClade?) names and better location info.  The updated `peroba` files are a metadata file, ending in `.tsv.xz`, and a sequence alignment file ending in `aln.xz`.  These finished files are all available on the VM so you don't have to create these yourself."
   ]
  },
  {
   "cell_type": "markdown",
   "id": "77969aad",
   "metadata": {},
   "source": [
    "# Aligning GISAID sequences"
   ]
  },
  {
   "cell_type": "markdown",
   "id": "3b8f861a",
   "metadata": {},
   "source": [
    "There are several tools for sequence alignment that are good for SARS-CoV-2:\n",
    "* MAFFT\n",
    "* ViralMSA\n",
    "* uvaia\n",
    "\n",
    "The fastest one for massive datasets like GISAID's is `uvaia`.\n",
    "\n",
    "**Check if the peroba output needs to be aligned to the reference, or if it is aligned already.  Also check if the sequences are masked or not.**"
   ]
  },
  {
   "cell_type": "markdown",
   "id": "1446c302",
   "metadata": {},
   "source": [
    "# Manipulating sequence files"
   ]
  },
  {
   "cell_type": "markdown",
   "id": "132e9ddd",
   "metadata": {},
   "source": [
    "`goalign subset` or `seqkit grep`: pick out sequences based on a string, or remove sequences from names found in a file"
   ]
  },
  {
   "cell_type": "markdown",
   "id": "ddc0eb9a",
   "metadata": {},
   "source": [
    "# Removing duplicate sequences from an alignment"
   ]
  },
  {
   "cell_type": "markdown",
   "id": "3bae906c",
   "metadata": {},
   "source": [
    "This is important to do!  Use `goalign reformat`."
   ]
  },
  {
   "cell_type": "markdown",
   "id": "4b32bc7a",
   "metadata": {},
   "source": [
    "# Masking problematic sites"
   ]
  },
  {
   "cell_type": "markdown",
   "id": "d83d3a90",
   "metadata": {},
   "source": [
    "Do this post-alignment but before you do any phylogenetics analysis with it."
   ]
  },
  {
   "cell_type": "markdown",
   "id": "5ee5c096",
   "metadata": {},
   "source": [
    "# Finding the n nearest neighbours per sequence"
   ]
  },
  {
   "cell_type": "markdown",
   "id": "bf4aa3e1",
   "metadata": {},
   "source": [
    "This is also done with `uvaia`; be sure to use aligned sequences."
   ]
  },
  {
   "cell_type": "markdown",
   "id": "1ef84546",
   "metadata": {},
   "source": [
    "# Finding redundant sequences in those nearest neighbours"
   ]
  },
  {
   "cell_type": "markdown",
   "id": "7571386b",
   "metadata": {},
   "source": [
    "**I think redundant sequences are those that are very close together in your tree and so not interesting.**\n",
    "\n",
    "One way to find these is to make a neighbor-joining tree (phylogenetic tree constructed by joining nearest neighbours) using `rapidnj`.\n",
    "\n",
    "Another way to get rid of redundant sequences is to run `iqtree -k 100`.  This will choose the `k` leaves that will maximize phylogenetic diversity.  So--first, run it to get rid of outliers (using `-r`?), then run it again to get a good diverse tree, without redundant sequences in it.\n",
    "\n",
    "The output `.pda` file has the list of non-redundant record names in it.  Using this file, you can use `goalign subset` for alignment files or `gotree prune` for `.tre` files to discard the redundant sequences."
   ]
  },
  {
   "cell_type": "code",
   "execution_count": null,
   "id": "2705e361",
   "metadata": {},
   "outputs": [],
   "source": []
  }
 ],
 "metadata": {
  "kernelspec": {
   "display_name": "Python 3 (ipykernel)",
   "language": "python",
   "name": "python3"
  },
  "language_info": {
   "codemirror_mode": {
    "name": "ipython",
    "version": 3
   },
   "file_extension": ".py",
   "mimetype": "text/x-python",
   "name": "python",
   "nbconvert_exporter": "python",
   "pygments_lexer": "ipython3",
   "version": "3.8.12"
  }
 },
 "nbformat": 4,
 "nbformat_minor": 5
}
