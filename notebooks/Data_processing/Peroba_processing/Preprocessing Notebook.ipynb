{
 "cells": [
  {
   "cell_type": "markdown",
   "id": "4b9e98c6",
   "metadata": {},
   "source": [
    "Using Peroba data."
   ]
  },
  {
   "cell_type": "markdown",
   "id": "e91e2a1a",
   "metadata": {},
   "source": [
    "# Setup"
   ]
  },
  {
   "cell_type": "markdown",
   "id": "e217df88",
   "metadata": {},
   "source": [
    "First enter the VM:"
   ]
  },
  {
   "cell_type": "code",
   "execution_count": null,
   "id": "b5e1e6b6",
   "metadata": {},
   "outputs": [],
   "source": [
    "! ssh madeline-01"
   ]
  },
  {
   "cell_type": "markdown",
   "id": "58746403",
   "metadata": {},
   "source": [
    "Next is variable assignment.  In here are all the things you can change before running the notebook."
   ]
  },
  {
   "cell_type": "code",
   "execution_count": null,
   "id": "95d82987",
   "metadata": {},
   "outputs": [],
   "source": [
    "#paths and folders\n",
    "! results=/home/ubuntu/20220225 #today's date: this will be the name of the folder to keep things in\n",
    "! dbpath=/home/ubuntu/ongaeshi-mnt/databases/ #folder with Peroba data\n",
    "! metadata=peroba_meta.220209_173253.tsv.xz #Peroba metadata\n",
    "! alignment=peroba_align.220209_173253.aln.xz #Peroba alignment file\n",
    "! scripts=/home/ubuntu/scripts\n",
    "! Wuhan-Hu-1=/home/ubuntu/Wuhan-Wu-1.fasta\n",
    "\n",
    "#analysis parameters\n",
    "! start_date=2021-07-01\n",
    "! end_date=2021-07-31"
   ]
  },
  {
   "cell_type": "markdown",
   "id": "e35aa82b",
   "metadata": {},
   "source": [
    "Set up a folder to keep your results in:"
   ]
  },
  {
   "cell_type": "code",
   "execution_count": null,
   "id": "382460db",
   "metadata": {},
   "outputs": [],
   "source": [
    "! mkdir $results #directory for today's data"
   ]
  },
  {
   "cell_type": "markdown",
   "id": "775f5dc9",
   "metadata": {},
   "source": [
    "# Preprocessing for England between `start_date` and `end_date`"
   ]
  },
  {
   "cell_type": "markdown",
   "id": "d62aa760",
   "metadata": {},
   "source": [
    "Subset the metadata by extracting only English records, decompressing it along the way:"
   ]
  },
  {
   "cell_type": "code",
   "execution_count": null,
   "id": "911d8a19",
   "metadata": {},
   "outputs": [],
   "source": [
    "! xzgrep 'England/' ${dbpath}${metadata} >> ${results}/${metadata/.tsv.xz/.England.tsv}"
   ]
  },
  {
   "cell_type": "markdown",
   "id": "2a8b2854",
   "metadata": {},
   "source": [
    "Subset the English metadata further by keeping only records between two dates:"
   ]
  },
  {
   "cell_type": "code",
   "execution_count": null,
   "id": "ec8b4db5",
   "metadata": {},
   "outputs": [],
   "source": [
    "! s1=${results}/${metadata/.tsv.xz/.England.tsv}_{start_date}_{end_date}\n",
    "! s2=${s1//-/}\n",
    "! s3=${s2/.tsv./.}\n",
    "\n",
    "! seqnames_file=${s3}.seqnames.txt #output file for sequence names from England between dates\n",
    "! meta_subset_file=${s3}.tsv #output file for metadata slice (England between two dates)\n",
    "\n",
    "! python3 ${scripts}/subset_peroba_metadata_by_date.py --metadata_tsv ${results}/${metadata/.tsv.xz/.England.tsv} --start_date {start_date} --end_date {end_date} --output_metadata meta_subset_file --output_names seqnames_file"
   ]
  },
  {
   "cell_type": "markdown",
   "id": "903e27d7",
   "metadata": {},
   "source": [
    "Now, use this to get the matching alignments:"
   ]
  },
  {
   "cell_type": "code",
   "execution_count": null,
   "id": "002c4e74",
   "metadata": {},
   "outputs": [],
   "source": [
    "! xzgrep -w -A 1 -f ${seqnames_file} ${alignment} --no-group-separator | xz > ${results}/England_alignment.aln.xz"
   ]
  },
  {
   "cell_type": "markdown",
   "id": "ed746535",
   "metadata": {},
   "source": [
    "From this dataset, remove duplicate sequences (based on the sequence content):"
   ]
  },
  {
   "cell_type": "code",
   "execution_count": null,
   "id": "9f3abb49",
   "metadata": {},
   "outputs": [],
   "source": [
    "! seqkit rmdup -s < ${results}/England_alignment.aln.xz > ${results}/England_alignment.dedup.aln.xz"
   ]
  },
  {
   "cell_type": "markdown",
   "id": "c2db93fc",
   "metadata": {},
   "source": [
    "Add Wuhan-Wu-1 for masking:"
   ]
  },
  {
   "cell_type": "code",
   "execution_count": null,
   "id": "b1a67475",
   "metadata": {},
   "outputs": [],
   "source": [
    "! xzcat ${results}/England_alignment.dedup.aln.xz >> $Wuhan-Hu-1 | xz > ${results}/England_alignment.dedup.ref.aln.xz"
   ]
  },
  {
   "cell_type": "markdown",
   "id": "c977aefb",
   "metadata": {},
   "source": [
    "And mask any problematic sites:"
   ]
  },
  {
   "cell_type": "code",
   "execution_count": null,
   "id": "cdcf717e",
   "metadata": {},
   "outputs": [],
   "source": [
    "python3 /home/ubuntu/ProblematicSites_SARS-CoV2/src/mask_alignment_using_vcf.py -v ProblematicSites_SARS-CoV2/problematic_sites_sarsCov2.vcf -i ${results}/England_alignment.dedup.ref.aln.xz -o ${results}/England_alignment.dedup.ref.masked.aln.xz -r \"Wuhan/WH01/2019\""
   ]
  },
  {
   "cell_type": "markdown",
   "id": "3272a976",
   "metadata": {},
   "source": [
    "# Separating into NORW and England-other"
   ]
  },
  {
   "cell_type": "markdown",
   "id": "982c4b4a",
   "metadata": {},
   "source": [
    "Now that you have the English metadata and alignments all ready, extract the NORW sequence data from this to use as your query dataset."
   ]
  },
  {
   "cell_type": "code",
   "execution_count": null,
   "id": "62ec03b0",
   "metadata": {},
   "outputs": [],
   "source": [
    "! xzgrep -A 1 \"NORW\" ${results}/England_alignment.dedup.ref.masked.aln.xz > ${results}/NORW_${start_date}_${end_date}.aln"
   ]
  },
  {
   "cell_type": "markdown",
   "id": "dd7b6e86",
   "metadata": {},
   "source": [
    "Likewise, get rid of all the \"NORW\" sequences in the England dataset:"
   ]
  },
  {
   "cell_type": "code",
   "execution_count": null,
   "id": "f7ac7b88",
   "metadata": {},
   "outputs": [],
   "source": [
    "! xzgrep -Av 1 \"NORW\" ${results}/England_alignment.dedup.ref.masked.aln.xz | xz > ${results}/England_alignment.dedup.ref.masked.noNORW.aln"
   ]
  },
  {
   "cell_type": "markdown",
   "id": "19659b3d",
   "metadata": {},
   "source": [
    "# Nearest neighbours to NORW"
   ]
  },
  {
   "cell_type": "markdown",
   "id": "fb1a0f83",
   "metadata": {},
   "source": [
    "Then find the 4 nearest neighbours of each NORW sequence in the England file.  This will take a long time (>6h the first time) and should be left to run overnight.  The output is a `.gz` file."
   ]
  },
  {
   "cell_type": "code",
   "execution_count": null,
   "id": "f0a5aae7",
   "metadata": {},
   "outputs": [],
   "source": [
    "! nohup uvaia -n 4 -r ${results}/England_alignment.dedup.ref.masked.noNORW.aln -o ${results}/NORW_${start_date}_${end_date}.4nn.aln.gz -t 12 ${results}/NORW_${start_date}_${end_date}.aln"
   ]
  },
  {
   "cell_type": "markdown",
   "id": "dc461444",
   "metadata": {},
   "source": [
    "# Reducing to the most diverse neighbours"
   ]
  },
  {
   "cell_type": "markdown",
   "id": "1321073e",
   "metadata": {},
   "source": [
    "Remove the redundant nearest neighbours by creating a rapid neighbour-joining tree and then choosing only the sequences that are the most diverse."
   ]
  },
  {
   "cell_type": "markdown",
   "id": "b4f28a4b",
   "metadata": {},
   "source": [
    "NJ tree:"
   ]
  },
  {
   "cell_type": "code",
   "execution_count": null,
   "id": "c350afde",
   "metadata": {},
   "outputs": [],
   "source": [
    "! gunzip ${results}/NORW_${start_date}_${end_date}.4nn.aln.gz > ${results}/NORW_${start_date}_${end_date}.4nn.aln\n",
    "! nohup rapidnj ${results}/NORW_${start_date}_${end_date}.4nn.aln -i fa -t d -n -c 8 -o t -x ${results}/NORW_${start_date}_${end_date}.4nn.aln.tre"
   ]
  },
  {
   "cell_type": "markdown",
   "id": "5cd4afb5",
   "metadata": {},
   "source": [
    "Picking the 100 most diverse leaves:"
   ]
  },
  {
   "cell_type": "code",
   "execution_count": null,
   "id": "bb0c4e64",
   "metadata": {},
   "outputs": [],
   "source": [
    "! nohup iqtree -k 100 ${results}/NORW_${start_date}_${end_date}.4nn.aln.tre"
   ]
  },
  {
   "cell_type": "markdown",
   "id": "ecd36593",
   "metadata": {},
   "source": [
    "The results are saved as `${results}/NORW_${start_date}_${end_date}.4nn.aln.tre.pda`.  Extract the list of sequence names to keep, being careful to reformat the names to match the alignment file and to remove duplicate names."
   ]
  },
  {
   "cell_type": "code",
   "execution_count": null,
   "id": "dd751b99",
   "metadata": {},
   "outputs": [],
   "source": [
    "! grep -A 100 \"The optimal PD set has 100 taxa:\" ${results}/NORW_${start_date}_${end_date}.4nn.aln.tre.pda | sed '1d'  | sed 's/^.//;s/.$//;s/_/\\//;s/_/\\//' | sort | uniq > ${results}/nn_seqs_to_keep.txt"
   ]
  },
  {
   "cell_type": "markdown",
   "id": "a2fb1778",
   "metadata": {},
   "source": [
    "Prepare a fasta file of the most diverse neighbours:"
   ]
  },
  {
   "cell_type": "code",
   "execution_count": null,
   "id": "ed98506e",
   "metadata": {},
   "outputs": [],
   "source": [
    "! grep -w -A 1 -f ${results}/nn_seqs_to_keep.txt ${results}/NORW_${start_date}_${end_date}.4nn.aln --no-group-separator > ${results}/reduced_refs.aln"
   ]
  },
  {
   "cell_type": "markdown",
   "id": "42170e4b",
   "metadata": {},
   "source": [
    "Then, redraw the tree using just the diverse neighbours.  This is another slow step."
   ]
  },
  {
   "cell_type": "code",
   "execution_count": null,
   "id": "d852611e",
   "metadata": {},
   "outputs": [],
   "source": [
    "! iqtree -s ${results}/reduced_refs.aln"
   ]
  },
  {
   "cell_type": "markdown",
   "id": "441f024f",
   "metadata": {},
   "source": [
    "# Combining neighbours and queries into an ML tree"
   ]
  },
  {
   "cell_type": "markdown",
   "id": "117c77df",
   "metadata": {},
   "source": [
    "Concatenate the query and neighbour sequences together:"
   ]
  },
  {
   "cell_type": "code",
   "execution_count": null,
   "id": "6efa01c8",
   "metadata": {},
   "outputs": [],
   "source": [
    "! cat ${results}/NORW_${start_date}_${end_date}.aln ${results}/reduced_refs.aln > ${results}/allseqs.aln"
   ]
  },
  {
   "cell_type": "markdown",
   "id": "174d7c4b",
   "metadata": {},
   "source": [
    "Now make a tree out of everything, using the neighbour tree you just made as the backbone:"
   ]
  },
  {
   "cell_type": "code",
   "execution_count": null,
   "id": "1c5d5e19",
   "metadata": {},
   "outputs": [],
   "source": [
    "! iqtree -s ${results}/allseqs.aln -m HKY+G -g ${results}/reduced_refs.aln.treefile -t PARS"
   ]
  },
  {
   "cell_type": "markdown",
   "id": "d24f0396",
   "metadata": {},
   "source": [
    "It is saved as `${results}/allseqs.aln.treefile`."
   ]
  },
  {
   "cell_type": "markdown",
   "id": "5834ccf1",
   "metadata": {},
   "source": [
    "# Getting leaftips and relevant metadata"
   ]
  },
  {
   "cell_type": "markdown",
   "id": "146dc539",
   "metadata": {},
   "source": [
    "Now for things you might need later..."
   ]
  },
  {
   "cell_type": "markdown",
   "id": "caf34cf9",
   "metadata": {},
   "source": [
    "A list of leaftips in the final tree, formatted to match the tree:"
   ]
  },
  {
   "cell_type": "code",
   "execution_count": null,
   "id": "0d6259af",
   "metadata": {},
   "outputs": [],
   "source": [
    "! grep \"England\" ${results}/allseqs.aln | sed 's/>//g' > ${results}/leaftips.txt"
   ]
  },
  {
   "cell_type": "markdown",
   "id": "113d0cb4",
   "metadata": {},
   "source": [
    "The metadata that belongs to the samples in your tree:"
   ]
  },
  {
   "cell_type": "code",
   "execution_count": null,
   "id": "3065c6c4",
   "metadata": {},
   "outputs": [],
   "source": [
    "# straighten out the metadata formatting in-place\n",
    "\n",
    "! sed -i 's/ \\/ /\\//g;s/location_cogukage/location_coguk    age/;1s/\\s\\+/\\t/g' ${meta_subset_file}\n",
    "\n",
    "#subset out just the records in your tree.  The names are not yet matching the names in the tree, but in the next section this will be dealt with.\n",
    "\n",
    "! grep -f ${results}/leaftips.txt ${meta_subset_file} --no-group-separator > ${results}/leaftips_metadata.tsv"
   ]
  },
  {
   "cell_type": "markdown",
   "id": "bdd0fb14",
   "metadata": {},
   "source": [
    "Make the fasta file names match too:"
   ]
  },
  {
   "cell_type": "code",
   "execution_count": null,
   "id": "a4f41a0a",
   "metadata": {},
   "outputs": [],
   "source": [
    "! sed -i 's/\\//_/g' ${results}/allseqs.aln"
   ]
  },
  {
   "cell_type": "markdown",
   "id": "e174678c",
   "metadata": {},
   "source": [
    "# Run `treetime`"
   ]
  },
  {
   "cell_type": "markdown",
   "id": "1d30b91e",
   "metadata": {},
   "source": [
    "Get the names, dates, regions and countries in a `.csv` acceptable by `treetime`:"
   ]
  },
  {
   "cell_type": "code",
   "execution_count": null,
   "id": "3d7cb3d8",
   "metadata": {},
   "outputs": [],
   "source": [
    "! python ${scripts}/get_treetime_states.py --metadata_tsv ${results}/leaftips_metadata.tsv --leaftips ${results}/leaftips.txt --out ${results}/leaftips_treetime_states.tsv"
   ]
  },
  {
   "cell_type": "markdown",
   "id": "ba58eae5",
   "metadata": {},
   "source": [
    "Run a mugration model using `region`:"
   ]
  },
  {
   "cell_type": "code",
   "execution_count": null,
   "id": "3fc3f746",
   "metadata": {},
   "outputs": [],
   "source": [
    "! treetime mugration --tree ${results}/allseqs.aln.treefile --states ${results}/leaftips_treetime_states.tsv --attribute 'region' --outdir ${results}/timetree-mugration-region"
   ]
  }
 ],
 "metadata": {
  "kernelspec": {
   "display_name": "Python 3 (ipykernel)",
   "language": "python",
   "name": "python3"
  },
  "language_info": {
   "codemirror_mode": {
    "name": "ipython",
    "version": 3
   },
   "file_extension": ".py",
   "mimetype": "text/x-python",
   "name": "python",
   "nbconvert_exporter": "python",
   "pygments_lexer": "ipython3",
   "version": "3.8.12"
  }
 },
 "nbformat": 4,
 "nbformat_minor": 5
}
