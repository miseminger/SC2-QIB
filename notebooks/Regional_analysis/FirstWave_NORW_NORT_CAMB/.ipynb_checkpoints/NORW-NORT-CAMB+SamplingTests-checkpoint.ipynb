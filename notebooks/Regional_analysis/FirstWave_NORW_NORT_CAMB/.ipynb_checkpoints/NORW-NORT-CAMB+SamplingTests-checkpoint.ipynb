{
 "cells": [
  {
   "cell_type": "markdown",
   "id": "82e43d89",
   "metadata": {},
   "source": [
    "# The start of the pandemic: (\"2020-01-01\", \"2020-06-30\", \"NORW\")"
   ]
  },
  {
   "cell_type": "code",
   "execution_count": 3,
   "id": "7c6c13de",
   "metadata": {},
   "outputs": [
    {
     "name": "stderr",
     "output_type": "stream",
     "text": [
      "Loading required package: ape\n",
      "\n",
      "code for methods in class “Rcpp_Fitch” was not checked for suspicious field assignments (recommended package ‘codetools’ not available?)\n",
      "\n",
      "code for methods in class “Rcpp_Fitch” was not checked for suspicious field assignments (recommended package ‘codetools’ not available?)\n",
      "\n",
      "ggtreeExtra v1.4.1  For help: https://yulab-smu.top/treedata-book/\n",
      "\n",
      "If you use ggtreeExtra in published research, please cite the paper:\n",
      "\n",
      "S Xu, Z Dai, P Guo, X Fu, S Liu, L Zhou, W Tang, T Feng, M Chen, L Zhan, T Wu, E Hu, Y Jiang, X Bo, G Yu. ggtreeExtra: Compact visualization of richly annotated phylogenetic data. Molecular Biology and Evolution 2021, 38(9):4039-4042. doi: 10.1093/molbev/msab166\n",
      "\n",
      "\n",
      "\n",
      "ggtree v3.2.1  For help: https://yulab-smu.top/treedata-book/\n",
      "\n",
      "If you use ggtree in published research, please cite the most appropriate paper(s):\n",
      "\n",
      "1. Guangchuang Yu. Using ggtree to visualize data on tree-like structures. Current Protocols in Bioinformatics. 2020, 69:e96. doi:10.1002/cpbi.96\n",
      "2. Guangchuang Yu, Tommy Tsan-Yuk Lam, Huachen Zhu, Yi Guan. Two methods for mapping and visualizing associated data on phylogeny using ggtree. Molecular Biology and Evolution. 2018, 35(12):3041-3043. doi:10.1093/molbev/msy194\n",
      "3. Guangchuang Yu, David Smith, Huachen Zhu, Yi Guan, Tommy Tsan-Yuk Lam. ggtree: an R package for visualization and annotation of phylogenetic trees with their covariates and other associated data. Methods in Ecology and Evolution. 2017, 8(1):28-36. doi:10.1111/2041-210X.12628\n",
      "\n",
      "\n",
      "\n",
      "\n",
      "Attaching package: ‘ggtree’\n",
      "\n",
      "\n",
      "The following object is masked from ‘package:ape’:\n",
      "\n",
      "    rotate\n",
      "\n",
      "\n",
      "\n",
      "Attaching package: ‘colorspace’\n",
      "\n",
      "\n",
      "The following object is masked from ‘package:phangorn’:\n",
      "\n",
      "    coords\n",
      "\n",
      "\n",
      "\n",
      "Attaching package: ‘dplyr’\n",
      "\n",
      "\n",
      "The following objects are masked from ‘package:stats’:\n",
      "\n",
      "    filter, lag\n",
      "\n",
      "\n",
      "The following objects are masked from ‘package:base’:\n",
      "\n",
      "    intersect, setdiff, setequal, union\n",
      "\n",
      "\n",
      "\n",
      "Attaching package: ‘tidyr’\n",
      "\n",
      "\n",
      "The following object is masked from ‘package:ggtree’:\n",
      "\n",
      "    expand\n",
      "\n",
      "\n",
      "\n",
      "Attaching package: ‘ggpubr’\n",
      "\n",
      "\n",
      "The following object is masked from ‘package:ggtree’:\n",
      "\n",
      "    rotate\n",
      "\n",
      "\n",
      "The following object is masked from ‘package:ape’:\n",
      "\n",
      "    rotate\n",
      "\n",
      "\n",
      "Loading required package: Rcpp\n",
      "\n",
      "\n",
      "Attaching package: ‘lubridate’\n",
      "\n",
      "\n",
      "The following objects are masked from ‘package:base’:\n",
      "\n",
      "    date, intersect, setdiff, union\n",
      "\n",
      "\n"
     ]
    }
   ],
   "source": [
    "library(phangorn)\n",
    "library(ggtreeExtra)\n",
    "library(ggtree)\n",
    "library(ggnewscale)\n",
    "library(colorspace);\n",
    "library(RColorBrewer);\n",
    "library(dplyr)\n",
    "library(tidyr)\n",
    "library(ggplot2)\n",
    "library (ggpubr)\n",
    "library (stringr)\n",
    "library(castor)\n",
    "library(lubridate)"
   ]
  },
  {
   "cell_type": "markdown",
   "id": "096a7b41",
   "metadata": {},
   "source": [
    "# Load and reformat COG-UK metadata"
   ]
  },
  {
   "cell_type": "code",
   "execution_count": 4,
   "id": "30138394",
   "metadata": {},
   "outputs": [],
   "source": [
    "cog_meta <- \"/home/madeline/Desktop/git_temp/QIB_Internship/data/cog_global_2022-03-28_public.csv.xz\"\n",
    "df <- read.csv(cog_meta)"
   ]
  },
  {
   "cell_type": "code",
   "execution_count": 1,
   "id": "83beb05f",
   "metadata": {},
   "outputs": [
    {
     "ename": "ERROR",
     "evalue": "Error in df$sequence_name: object of type 'closure' is not subsettable\n",
     "output_type": "error",
     "traceback": [
      "Error in df$sequence_name: object of type 'closure' is not subsettable\nTraceback:\n",
      "1. grep(\"England\", df$sequence_name)",
      "2. is.factor(x)"
     ]
    }
   ],
   "source": [
    "england <- df[grep(\"England\", df$sequence_name), ]"
   ]
  },
  {
   "cell_type": "code",
   "execution_count": 2,
   "id": "41f61b08",
   "metadata": {},
   "outputs": [
    {
     "ename": "ERROR",
     "evalue": "Error in england %>% mutate(sample_date = as.POSIXct(sample_date)): could not find function \"%>%\"\n",
     "output_type": "error",
     "traceback": [
      "Error in england %>% mutate(sample_date = as.POSIXct(sample_date)): could not find function \"%>%\"\nTraceback:\n"
     ]
    }
   ],
   "source": [
    "england <- england %>% mutate(sample_date=as.POSIXct(sample_date))\n",
    "england$date2 <- as.Date(cut(england$sample_date, breaks = \"2 weeks\", start.on.monday = FALSE))\n",
    "england$sample_date <- as.Date(england$sample_date)\n",
    "england$code = substr(england$central_sample_id,1,4)"
   ]
  },
  {
   "cell_type": "markdown",
   "id": "cd81e7b5",
   "metadata": {},
   "source": [
    "Reformat sequence names to match tree tips:"
   ]
  },
  {
   "cell_type": "code",
   "execution_count": 3,
   "id": "daea9d97",
   "metadata": {},
   "outputs": [
    {
     "ename": "ERROR",
     "evalue": "Error in str_replace_all(england$sequence_name, \"/\", \"_\"): could not find function \"str_replace_all\"\n",
     "output_type": "error",
     "traceback": [
      "Error in str_replace_all(england$sequence_name, \"/\", \"_\"): could not find function \"str_replace_all\"\nTraceback:\n"
     ]
    }
   ],
   "source": [
    "england$sequence_name <- str_replace_all(england$sequence_name, '/', '_')\n",
    "england$sequence_name <- paste0(\"_\", england$sequence_name, \"_\")\n",
    "england\n",
    "write.csv(england, \"england\", row.names=FALSE) #save the traits"
   ]
  },
  {
   "cell_type": "markdown",
   "id": "47ec8cc8",
   "metadata": {},
   "source": [
    "# Define functions"
   ]
  },
  {
   "cell_type": "code",
   "execution_count": null,
   "id": "5d3f6d3a",
   "metadata": {},
   "outputs": [],
   "source": [
    "plot_lineages <- function(start_date, end_date, centre){\n",
    "\n",
    "d <- subset(england, code == centre)\n",
    "date_subset <- subset(d, (sample_date >= as.Date(start_date) & sample_date <= as.Date(end_date))) #just an end date for now\n",
    "\n",
    "total_lineages <- as.data.frame(table(date_subset$lineage))\n",
    "\n",
    "num_uniq = length(unique(date_subset$lineage))\n",
    "print(paste0(centre, \": \", num_uniq, \" unique lineages\"))    \n",
    "    \n",
    "options(repr.plot.width=20, repr.plot.height=8) ; par(oma=c(0,0,0,0))\n",
    "p <- ggplot(data=total_lineages, mapping = aes(x = Var1, y = Freq)) + ggplot2::geom_bar(stat=\"identity\", color='black', fill='maroon')\n",
    "p <- p + theme_classic() + theme(axis.text.x = element_text(color=\"black\", size=16)) + xlab(\"Lineage\") + ylab(\"Number of Sequences\")\n",
    "p <- p + theme(axis.title.x = element_text(color=\"black\", size=15, face=\"bold\"), \n",
    "               axis.text.x = element_text(color=\"black\", size=15, angle = 90, vjust = 0.5, hjust=1),\n",
    "               axis.title.y = element_text(color=\"black\", size=15, face=\"bold\"),\n",
    "               axis.text.y = element_text(color=\"black\", size=15),\n",
    "               legend.text = element_text(size=16), legend.title = element_text(size=20)\n",
    "              )\n",
    "\n",
    "p <- p + labs(title = paste0(centre, \": \", start_date, \" to \", end_date))\n",
    "p\n",
    "}"
   ]
  },
  {
   "cell_type": "code",
   "execution_count": null,
   "id": "d1b29287",
   "metadata": {},
   "outputs": [],
   "source": [
    "plot_lineages_choose_sites <- function(start_date, end_date, centres){\n",
    "\n",
    "date_subset <- subset(england, (sample_date >= as.Date(start_date) & sample_date <= as.Date(end_date))) #just an end date for now\n",
    "centre_subs2 <- filter(date_subset, grepl(paste(centres, collapse=\"|\"), code))\n",
    "options(repr.plot.width=14, repr.plot.height=8) ; par(oma=c(0,0,0,0))\n",
    "p <- ggplot(centre_subs2, aes(x = lineage, fill=code)) + geom_bar(color='black')\n",
    "p <- p + scale_x_discrete(expand=c(0.0001, 0))\n",
    "p <- p + scale_fill_discrete(name = \"Sequencing Site\")\n",
    "p <- p + theme_classic() + theme(axis.text.x = element_text(color=\"black\", size=16)) + xlab(\"Lineage\") + ylab(\"Number of Sequences\")\n",
    "p <- p + theme(axis.title.x = element_text(color=\"black\", size=15, face=\"bold\"), \n",
    "               axis.text.x = element_text(color=\"black\", size=12, angle = 90, vjust = 0.5, hjust=1),\n",
    "               axis.title.y = element_text(color=\"black\", size=15, face=\"bold\"),\n",
    "               axis.text.y = element_text(color=\"black\", size=15),\n",
    "               legend.text = element_text(size=16), legend.title = element_text(size=20)\n",
    "              )\n",
    "\n",
    "p <- p + labs(title = paste0(start_date, \" to \", end_date))\n",
    "p\n",
    "}"
   ]
  },
  {
   "cell_type": "code",
   "execution_count": null,
   "id": "e1c80719",
   "metadata": {},
   "outputs": [],
   "source": [
    "plot_sample_counts <- function(start_date, end_date, centre){\n",
    "\n",
    "date_subset <- subset(england[grep(centre, england$code), ], (sample_date >= as.Date(start_date) & sample_date <= as.Date(end_date))) #just an end date for now\n",
    "getPal_centre  = colorRampPalette(brewer.pal(8,\"Accent\"))(length(unique(england$code)))    \n",
    "options(repr.plot.width=14, repr.plot.height=8) ; par(oma=c(0,0,0,0))\n",
    "print(paste0(centre, \" total seqs: \", nrow(date_subset))) \n",
    "p <- ggplot(date_subset, aes(x = sample_date, fill=code)) + geom_bar(color='black')\n",
    "p <- p + ggplot2::scale_fill_manual(values=getPal_centre, name=\"Code\")\n",
    "p <- p + theme_classic() + theme(axis.text.x = element_text(color=\"black\", size=16)) + xlab(\"Sample Date\") + ylab(\"Number of Sequences\")\n",
    "p <- p + theme(axis.title.x = element_text(color=\"black\", size=15, face=\"bold\"), \n",
    "               axis.text.x = element_text(color=\"black\", size=12, angle = 90, vjust = 0.5, hjust=1),\n",
    "               axis.title.y = element_text(color=\"black\", size=15, face=\"bold\"),\n",
    "               axis.text.y = element_text(color=\"black\", size=15),\n",
    "               legend.text = element_text(size=16), legend.title = element_text(size=20)\n",
    "              )\n",
    "\n",
    "p <- p + labs(title = paste0(centre, \": \", start_date, \" to \", end_date))\n",
    "p\n",
    "}"
   ]
  },
  {
   "cell_type": "code",
   "execution_count": null,
   "id": "9b9b2c39",
   "metadata": {},
   "outputs": [],
   "source": [
    "plot_lineage_contributions <- function(start_date, end_date, centre){\n",
    "\n",
    "date_subset <- subset(england[grep(centre, england$code), ], (sample_date >= as.Date(start_date) & sample_date <= as.Date(end_date))) #just an end date for now\n",
    "getPal_lineage  = colorRampPalette(brewer.pal(8,\"Accent\"))(length(unique(date_subset$lineage)))\n",
    "options(repr.plot.width=14, repr.plot.height=8) ; par(oma=c(0,0,0,0))\n",
    "    \n",
    "p <- ggplot(date_subset, aes(x = date2, fill=lineage)) + geom_bar(position='fill', width=12,color='black')  ## geom_bar()\n",
    "p <- p + ggplot2::scale_fill_manual(values=getPal_lineage, name=\"Lineage\")\n",
    "p <- p + theme_classic() + theme(axis.text.x = element_text(color=\"black\", size=16)) + xlab(\"Sampling Date\") + ylab(\"Proportion of Sequences\")\n",
    "p <- p + scale_x_date(date_labels = \"%b\\n%Y\",date_breaks = \"2 months\", date_minor_breaks = \"1 month\", limits = as.Date(c(start_date,end_date)))\n",
    "p <- p + theme(axis.title.x = element_text(color=\"black\", size=15, face=\"bold\"), \n",
    "               axis.text.x = element_text(color=\"black\", size=15),\n",
    "               axis.title.y = element_text(color=\"black\", size=15, face=\"bold\"),\n",
    "               axis.text.y = element_text(color=\"black\", size=15),\n",
    "               legend.text = element_text(size=16), legend.title = element_text(size=20)\n",
    "              )\n",
    "\n",
    "p <- p + labs(title = paste0(centre, \": \", start_date, \" to \", end_date))\n",
    "p\n",
    "}"
   ]
  },
  {
   "cell_type": "code",
   "execution_count": null,
   "id": "52aa040f",
   "metadata": {},
   "outputs": [],
   "source": [
    "plot_lineage_counts_2w <- function(start_date, end_date, centre){\n",
    "\n",
    "date_subset <- subset(england[grep(centre, england$code), ], (sample_date >= as.Date(start_date) & sample_date <= as.Date(end_date))) #just an end date for now\n",
    "getPal_lineage  = colorRampPalette(brewer.pal(8,\"Accent\"))(length(unique(date_subset$lineage)))\n",
    "options(repr.plot.width=14, repr.plot.height=8) ; par(oma=c(0,0,0,0))\n",
    "    \n",
    "p <- ggplot(date_subset, aes(x = date2, fill=lineage)) + geom_bar(color='black')  ## geom_bar()\n",
    "p <- p + ggplot2::scale_fill_manual(values=getPal_lineage, name=\"Lineage\")\n",
    "p <- p + theme_classic() + theme(axis.text.x = element_text(color=\"black\", size=16)) + xlab(\"Sampling Date\") + ylab(\"Proportion of Sequences\")\n",
    "p <- p + scale_x_date(date_labels = \"%b\\n%Y\",date_breaks = \"2 months\", date_minor_breaks = \"1 month\", limits = as.Date(c(start_date,end_date)))\n",
    "p <- p + theme(axis.title.x = element_text(color=\"black\", size=15, face=\"bold\"), \n",
    "               axis.text.x = element_text(color=\"black\", size=15),\n",
    "               axis.title.y = element_text(color=\"black\", size=15, face=\"bold\"),\n",
    "               axis.text.y = element_text(color=\"black\", size=15),\n",
    "               legend.text = element_text(size=16), legend.title = element_text(size=20)\n",
    "              )\n",
    "\n",
    "p <- p + labs(title = paste0(centre, \": \", start_date, \" to \", end_date))\n",
    "p\n",
    "}"
   ]
  },
  {
   "cell_type": "code",
   "execution_count": null,
   "id": "ea12ae59",
   "metadata": {},
   "outputs": [],
   "source": [
    "plot_tree_by_factor <- function(treefile, metadata, factor, treetype, mrsd){\n",
    "\n",
    "# read in everything\n",
    "tbl0 <- read.csv (metadata, sep = \",\") \n",
    "tbl0[is.na(tbl0)] <- \"\"\n",
    "if(treetype==\"newick\") {tre <- read.tree (treefile)}\n",
    "else if(treetype==\"nexus\") {tre <- read.nexus (treefile)}\n",
    "traits <- tbl0 %>% slice(match(tre$tip.label, sequence_name)) #this line means you could use the entire cog_uk metadata\n",
    "rownames(traits) <- traits$sequence_name\n",
    "# traits$code <- substr(traits$central_sample_id,1,4)\n",
    "\n",
    "# get plot inputs\n",
    "groupInfo <- split (tre$tip.label, traits[factor])\n",
    "grouptre <- groupOTU(tre, groupInfo, group_name=\"group1\")\n",
    "options(repr.plot.width=26, repr.plot.height=20) ; par(oma=c(0,0,0,0)) \n",
    "getPal_1 = colorRampPalette( brewer.pal(8,\"Dark2\"))(length(unique(traits[,factor]))+1)  ## RdYlGn Set2\n",
    "\n",
    "# make plot\n",
    "p <- ggtree (grouptre,  aes(color=group1),size=0.4, layout=\"rectangular\", mrsd=mrsd)\n",
    "p <- p + theme(legend.position=\"right\") + theme(legend.text=element_text(size=15))\n",
    "p <- p + ggplot2::scale_color_manual(values = getPal_1, name=factor)\n",
    "p <- p + new_scale_color()  + new_scale_fill() \n",
    "p <- p + theme_tree2() \n",
    "p\n",
    "return(p)\n",
    "\n",
    "}"
   ]
  },
  {
   "cell_type": "code",
   "execution_count": null,
   "id": "49af5e7b",
   "metadata": {},
   "outputs": [],
   "source": [
    "plot_one_lineage_from_tree <- function(treefile, metadata, lineage_to_plot, treetype, mrsd){\n",
    "\n",
    "# read in everything\n",
    "tbl0 <- read.csv (metadata, sep = \",\") \n",
    "tbl0[is.na(tbl0)] <- \"\"\n",
    "if(treetype==\"newick\") {tre <- read.tree (treefile)}\n",
    "else if(treetype==\"nexus\") {tre <- read.nexus (treefile)}\n",
    "traits <- tbl0 %>% slice(match(tre$tip.label, sequence_name)) \n",
    "rownames(traits) <- traits$sequence_name\n",
    "\n",
    "groupInfo <- split (tre$tip.label, traits$lineage)\n",
    "tip_subset <- unlist(groupInfo[lineage_to_plot])   #char vector of tips to plot\n",
    "subtree <- get_subtree_with_tips(tre, only_tips=tip_subset)$subtree #castor\n",
    "\n",
    "# make plot\n",
    "options(repr.plot.width=26, repr.plot.height=20) ; par(oma=c(0,0,0,0)) \n",
    "p <- ggtree (subtree,  color=\"blue\",size=0.4, layout=\"rectangular\", mrsd=mrsd) + theme(legend.position=\"right\") + theme(legend.text=element_text(size=15))\n",
    "p <- p + theme_tree2() \n",
    "p <- p + geom_tiplab()\n",
    "p <- p + labs(title = lineage_to_plot)\n",
    "p\n",
    "\n",
    "return(p)\n",
    "\n",
    "}"
   ]
  },
  {
   "cell_type": "code",
   "execution_count": null,
   "id": "67d96642",
   "metadata": {},
   "outputs": [],
   "source": [
    "plot_tree_subset_and_color <- function(treefile, metadata, factor_to_subset_by, factor_value_to_subset_by, color_by, treetype, mrsd){\n",
    "\n",
    "# read in everything\n",
    "#tbl0 <- read.csv (metadata, sep = \",\") \n",
    "tbl0 <- metadata\n",
    "tbl0[is.na(tbl0)] <- \"\"\n",
    "if(treetype==\"newick\") {tre <- read.tree (treefile)}\n",
    "else if(treetype==\"nexus\") {tre <- read.nexus (treefile)}\n",
    "traits <- tbl0 %>% slice(match(tre$tip.label, sequence_name)) \n",
    "rownames(traits) <- traits$sequence_name\n",
    "\n",
    "# get subtree and traits subset corresponding to factor value\n",
    "traits_subset <- traits[ traits[[factor_to_subset_by]] == factor_value_to_subset_by , ]\n",
    "tip_subset <- traits_subset[[\"sequence_name\"]]\n",
    "tree_subset <- get_subtree_with_tips(tre, only_tips=tip_subset)$subtree #castor\n",
    "    \n",
    "# get color scheme for color_by\n",
    "groupInfo <- split (tree_subset$tip.label, traits_subset[color_by])   \n",
    "grouptre <- groupOTU(tree_subset, groupInfo, group_name=\"group1\")\n",
    "options(repr.plot.width=26, repr.plot.height=20) ; par(oma=c(0,0,0,0)) \n",
    "getPal_1 = colorRampPalette( brewer.pal(8,\"Dark2\"))(length(unique(traits_subset[color_by]))+2)  \n",
    "\n",
    "# make plot\n",
    "p <- ggtree (grouptre,  aes(color=group1),size=0.4, layout=\"rectangular\", mrsd=mrsd) + theme(legend.position=\"right\") + theme(legend.text=element_text(size=15))\n",
    "p <- p + ggplot2::scale_color_manual(values = getPal_1, name=color_by)\n",
    "p <- p + new_scale_color()  + new_scale_fill() \n",
    "p <- p + theme_tree2() \n",
    "p <- p + geom_tiplab()\n",
    "p <- p + labs(title = factor_value_to_subset_by)\n",
    "\n",
    "p\n",
    "return(p)\n",
    "    \n",
    "\n",
    "\n",
    "}"
   ]
  },
  {
   "cell_type": "markdown",
   "id": "bde52e65",
   "metadata": {},
   "source": [
    "# Investigate NORW vs. NORT vs. CAMB from 2020-01-01 to 2020-06-30"
   ]
  },
  {
   "cell_type": "markdown",
   "id": "a4f487ae",
   "metadata": {},
   "source": [
    "The aim of this bit is to check whether doing more sequencing actually gives you higher sequence diversity or not.  So, is it worth sequencing a lot for surveillance to be effective?\n",
    "\n",
    "I chose to look at NORW at the very beginning of the pandemic mainly because it was a relatively small wave (though it seemed much taller back then!) and manageable to analyze as a test case.\n",
    "\n",
    "NORT and CAMB were chosen as comparisons because Northumberland and Cambridge each have a similar population size to Norwich (though--importantly--I don't know what the NORT and CAMB codes really mean with respect to their area), but NORT and CAMB each have significantly more samples than NORW.  Also, NORW, NORT and CAMB all have similar numbers of lineages over the whole pandemic so far, so I'm curious to see if this is true for shorter time periods.  Over this whole time period, the total sequences corresponding to each four-letter code are:\n",
    "\n",
    "* NORW: 986\n",
    "* NORT: 1646 (~2x NORW)\n",
    "* CAMB: 5302 (~ 5x NORW)\n",
    "\n",
    "Note: There are many other things to take into account here to explain differences in viral diversity between the regions, including population density, demographics (especially age and occupation/level of isolation during work), and isolation from other cities--Norwich is the most isolated of these three, and for this reason I would expect lower viral diversity than other areas, since there would likely be fewer introductions of coronavirus.\n",
    "\n",
    "There are a few significant dates with respect to lockdowns in the UK during the beginning of the pandemic.  (The lockdown timeline for Britain is [here](https://www.instituteforgovernment.org.uk/charts/uk-government-coronavirus-lockdowns).)  They are:\n",
    "\n",
    "* March 11: WHO declares the COVID-19 pandemic ([link](https://www.who.int/director-general/speeches/detail/who-director-general-s-opening-remarks-at-the-media-briefing-on-covid-19---11-march-2020))\n",
    "* March 16: PM announces that everyone should stay home\n",
    "* March 26: Lockdown measures enacted in Britain\n",
    "* May 10: PM announces that those who can't work from home should go back to work but avoid public transport\n",
    "* June 1: Phased school reopening begins\n",
    "* June 15: Non-essential shops reopen\n",
    "* June 23: Restrictions relaxed (including social distancing)"
   ]
  },
  {
   "cell_type": "markdown",
   "id": "494ed50f",
   "metadata": {},
   "source": [
    "**Metadata exploration: lineages and counts over time**"
   ]
  },
  {
   "cell_type": "markdown",
   "id": "c5215c81",
   "metadata": {},
   "source": [
    "To start out, I wanted to know what the time distribution of samples in the COG-UK database is:"
   ]
  },
  {
   "cell_type": "code",
   "execution_count": null,
   "id": "4dfb972e",
   "metadata": {},
   "outputs": [],
   "source": [
    "plot_sample_counts(\"2020-01-01\", \"2020-06-30\", \"NORW\")\n",
    "plot_sample_counts(\"2020-01-01\", \"2020-06-30\", \"NORT\")\n",
    "plot_sample_counts(\"2020-01-01\", \"2020-06-30\", \"CAMB\")"
   ]
  },
  {
   "cell_type": "markdown",
   "id": "7a42908f",
   "metadata": {},
   "source": [
    "For NORW, there are no samples available before March 2020.  In general, the number of samples sequenced peaks at the beginning of May, then falls again.  There are several days at the beginning of March and later part of June where no samples are sequenced.\n",
    "\n",
    "For NORT, the distribution is almost bimodal: sequences begin at the start of March, then there's a sharp peak in sequencing towards the end of March, and a gentler wave in May, centred at the same place as NORW's and reaching a similar height.\n",
    "\n",
    "For CAMB, sequencing begins at the end of February, peaks near the start of April, then slowly falls, petering out at the end of June."
   ]
  },
  {
   "cell_type": "markdown",
   "id": "8515d86f",
   "metadata": {},
   "source": [
    "Second: **which PANGO lineages were sequenced in the first wave?**"
   ]
  },
  {
   "cell_type": "code",
   "execution_count": null,
   "id": "3dcd95f2",
   "metadata": {},
   "outputs": [],
   "source": [
    "plot_lineages(\"2020-01-01\", \"2020-06-30\", \"NORW\")\n",
    "plot_lineages(\"2020-01-01\", \"2020-06-30\", \"NORT\")\n",
    "plot_lineages(\"2020-01-01\", \"2020-06-30\", \"CAMB\")"
   ]
  },
  {
   "cell_type": "markdown",
   "id": "12224e46",
   "metadata": {},
   "source": [
    "NORW has the lowest number of lineages (27), followed by NORT (54), and CAMB has the most (110).\n",
    "\n",
    "All three codes have B.1 and B.1.1 as the most common overall.\n",
    "\n",
    "For NORW, all the sequences belong to the B clade.  The most common lineage is B.1.1, followed by B.1.  Then, B, B.1.201, and B.1.225 are all close after that.  There are 27 lineages, all B, in total, with only 5 of those lineages occurring in more than 50 samples.\n",
    "\n",
    "NORT includes a few A clade sequences.  B.1.1 is the most common by far, followed by B.1.  Next, B, B.1.1.369 and B.1.1.372 are all close, nearly tying for third. \n",
    "\n",
    "CAMB has sequences from both A and C.  B.1.1 is the most common by far, followed by B.1 and B.40.  B.1.1.10 and B are next.  Many lineages are represented by only very few samples.  B.40 is proportionally much more common than it is in NORW or NORT.\n",
    "\n",
    "**How common is each lineage over time, compared to the rest?**"
   ]
  },
  {
   "cell_type": "code",
   "execution_count": null,
   "id": "ae3e3ed7",
   "metadata": {},
   "outputs": [],
   "source": [
    "plot_lineage_contributions(\"2020-01-01\", \"2020-06-30\", \"NORW\") \n",
    "plot_lineage_contributions(\"2020-01-01\", \"2020-06-30\", \"NORT\") \n",
    "plot_lineage_contributions(\"2020-01-01\", \"2020-06-30\", \"CAMB\") "
   ]
  },
  {
   "cell_type": "markdown",
   "id": "9053f14a",
   "metadata": {},
   "source": [
    "The above plot shows what proportion of samples are of each lineage, at 2-week granularity.  \n",
    "\n",
    "For NORW, The very first samples sequenced are all B.1.105.  Later on, B, B.1, and B.1.1 become the most common lineages, with B.1.1 being the most common lineage at the peak, and B.1 the most common by the end of the time period.  B is negligible by the end.\n",
    "\n",
    "For NORT, B.1 is the most common lineage at the start (mid-February) but almost disappears by the end of May.  B.1.1 is most common at the peak, and remains one of the most common lineages throughout the time.  B is the most common lineage for the second interval, but disappears almost completely by the end of May.  B.1.1.369 increases over time starting from the end of April, becoming one of the most common by the end of June.\n",
    "\n",
    "For CAMB, though there are many lineages present in small numbers, B.1.1 is clearly the most abundant of all the lineages for the first wave, being present in high proportion throughout the time period and making up 40-45% of all CAMB sequences in April and May.\n",
    "\n",
    "So, though the codes with more sequences had more lineages than the codes with less, the major lineages were the same for all three codes, and in general only minority and very rare lineages were missed by sequencing less.\n",
    "\n",
    "Even though the time frame and sample size are small, and VOCs haven't come around yet, you can still see mini wave patterns for lineages that rise and fall.  The sample size is little enough that this has to be taken with a grain of salt though: it doesn't necessarily mean that those lineages that became more common for a time were necessarily more fit than their counterparts.  It could be that for that time period, maybe infection clusters were sequenced, or that the sampling methods were biased in some other way; I'd have to look into it.  (The REACT study would be more reliable in terms of avoiding sampling bias.)\n",
    "\n",
    "It is interesting to me that B.1.1 becomes most common by the end of June for each code, because the first VOC, Alpha/B.1.1.7, which is detected in autumn 2020, is descended from B.1.1."
   ]
  },
  {
   "cell_type": "markdown",
   "id": "aa3dd87e",
   "metadata": {},
   "source": [
    "A different view (counts rather than proportions) follows, showing the number of samples per lineage over two-week intervals.  There is not much that can be learned from these that can't be inferred from the two plots above, it's just another way to look at it (and easier to see that a lineage can be relatively very common at the tail ends of the peak but in reality be almost nothing)."
   ]
  },
  {
   "cell_type": "code",
   "execution_count": null,
   "id": "2c3ae5a0",
   "metadata": {},
   "outputs": [],
   "source": [
    "plot_lineage_counts_2w(\"2020-01-01\", \"2020-06-30\", \"NORW\")\n",
    "plot_lineage_counts_2w(\"2020-01-01\", \"2020-06-30\", \"NORT\")\n",
    "plot_lineage_counts_2w(\"2020-01-01\", \"2020-06-30\", \"CAMB\")"
   ]
  },
  {
   "cell_type": "markdown",
   "id": "3d87860d",
   "metadata": {},
   "source": [
    "**Before going on to look at some trees, I wanted to compare the diversity for these three codes to the last six months of the pandemic, when Delta and Omicron were present.**  Does more sequencing equal a more diverse dataset when highly transmissible VOCs, not wild type SARS-CoV-2, are circulating?"
   ]
  },
  {
   "cell_type": "markdown",
   "id": "f62d449d",
   "metadata": {},
   "source": [
    "**September 1, 2021 to February 28, 2022**"
   ]
  },
  {
   "cell_type": "code",
   "execution_count": null,
   "id": "f24da9e8",
   "metadata": {},
   "outputs": [],
   "source": [
    "plot_sample_counts(\"2021-09-01\", \"2022-02-28\", \"NORW\")\n",
    "plot_sample_counts(\"2021-09-01\", \"2022-02-28\", \"NORT\")\n",
    "plot_sample_counts(\"2021-09-01\", \"2022-02-28\", \"CAMB\")"
   ]
  },
  {
   "cell_type": "markdown",
   "id": "090fe42b",
   "metadata": {},
   "source": [
    "Looks like CAMB samples are few and far between for the end of the pandemic, so I'll ignore CAMB for this part and focus on NORT and NORW.  For this time period, NORT has ~40k sequences and NORW has ~20k, far more than what was available for the first wave, but NORT = ~2x NORW as before.  What lineages are there now?"
   ]
  },
  {
   "cell_type": "code",
   "execution_count": null,
   "id": "95fd232a",
   "metadata": {},
   "outputs": [],
   "source": [
    "plot_lineages(\"2021-09-01\", \"2022-02-28\", \"NORW\")\n",
    "plot_lineages(\"2021-09-01\", \"2022-02-28\", \"NORT\")"
   ]
  },
  {
   "cell_type": "markdown",
   "id": "715d2b17",
   "metadata": {},
   "source": [
    "Over the last six months of the pandemic, it looks like everything is Delta and Omicron.  Despite having twenty times as many samples for NORW as there were from the first wave, three lineages still dominate immensely compared to the rest: this time, it's BA.1 and AY.4.  The next two most abundant lineages are shared between the codes as well: BA.1.1 and AY.4.2.  NORT actually has BA.2 as its fourth-most-abundant, but this is due to NORT sequences being available into the second half of February where NORW sequences stop in the first half.\n",
    "\n",
    "NORT has 100 unique lineages this time, and NORW has 108, despite there being twice as many NORT samples.  In this case, more sequencing didn't actually result in more sample diversity."
   ]
  },
  {
   "cell_type": "code",
   "execution_count": null,
   "id": "b7826216",
   "metadata": {},
   "outputs": [],
   "source": [
    "plot_lineage_contributions(\"2021-09-01\", \"2022-02-28\", \"NORW\") \n",
    "plot_lineage_contributions(\"2021-09-01\", \"2022-02-28\", \"NORT\") "
   ]
  },
  {
   "cell_type": "markdown",
   "id": "63b3bb2c",
   "metadata": {},
   "source": [
    "For both NORT and NORW, AY.4 is the most common lineage from September to December, when BA.1 emerges and rapidly takes over.  AY.4.2 was increasing in prevalence until the emergence of BA.1, then quickly got snuffed out.  At the beginning of December, BA.1.1 shows up and quickly becomes the second most common lineage, increasing steadily until BA.2 emerges in January."
   ]
  },
  {
   "cell_type": "markdown",
   "id": "e9989f34",
   "metadata": {},
   "source": [
    "**Based on these two timeframes, and these three codes: does more sequencing necessarily mean more diversity?**\n",
    "\n",
    "Just based on this small investigation so far, the answer is: it depends what variants are out there.  If a highly transmissible VOC like Omicron is what's circulating, there will be low viral diversity overall in the population (since Omicron took over everything), and more sequencing is unlikely to show more diversity.\n",
    "\n",
    "In comparison, during the first wave, sequencing more did result in a wider variety of lineages being detected, but most of the additional lineages that were found were relatively uncommon.  (MRI: It might be good to check if any of those rarer lineages did survive and increase over the summer/fall.)\n",
    "\n",
    "In both timeframes, NORW, NORT and CAMB all had the same major lineages in a similar distribution compared to the other lineages (with B.40 as the only significant exception), despite having very different numbers of samples available."
   ]
  },
  {
   "cell_type": "markdown",
   "id": "b639bf88",
   "metadata": {},
   "source": [
    "# Maximum likelihood trees for NORW from 2020-01-01 to 2020-06-30"
   ]
  },
  {
   "cell_type": "markdown",
   "id": "7d79ed05",
   "metadata": {},
   "source": [
    "For now, the trees have only been created for NORW.  This time period covers 986 samples.  Here they are as an unrooted maximum likelihood tree, showing the similarities/relationships between the samples:"
   ]
  },
  {
   "cell_type": "markdown",
   "id": "09981721",
   "metadata": {},
   "source": [
    "``(base) ubuntu@madeline-01:~/nf-test/sequencing_centre_trees``$`` nohup nextflow run sequencing_centre_trees.nf --start_date \"2020-01-01\" --end_date \"2020-06-30\" --diverseQueries false --centre \"NORW\" --max_samples_per_month false``\n",
    "\n",
    "``executor >  local (9)\n",
    "[9c/5c73af] process > chooseSamples (1)        [100%] 1 of 1 ✔\n",
    "[3f/91b862] process > getFastaRecords (1)      [100%] 1 of 1 ✔\n",
    "[be/95bb93] process > maskProblematicSites (1) [100%] 1 of 1 ✔\n",
    "[cc/89715c] process > removeWuhanHu1 (1)       [100%] 1 of 1 ✔\n",
    "[-        ] process > reduceQueries            -\n",
    "[9c/46b7f2] process > buildFastTree (1)        [100%] 1 of 1 ✔\n",
    "[b4/37198f] process > refineTree (1)           [100%] 1 of 1 ✔\n",
    "[8e/8155f0] process > runPangolin (1)          [100%] 1 of 1 ✔\n",
    "[ab/dd0377] process > getCOGUKMetadata (1)     [100%] 1 of 1 ✔\n",
    "[e3/ca6bd1] process > joinMetadata (1)         [100%] 1 of 1 ✔\n",
    "Completed at: 28-Mar-2022 22:36:52\n",
    "Duration    : 11h 25m 26s\n",
    "CPU hours   : 14.1\n",
    "Succeeded   : 9\n",
    "``"
   ]
  },
  {
   "cell_type": "code",
   "execution_count": null,
   "id": "43d1a8d0",
   "metadata": {},
   "outputs": [],
   "source": [
    "plot_tree_by_factor(\"full_timeframe/reformatted.aln.treefile\", \"full_timeframe/metadata_reformatted.csv\", \"lineage\", \"newick\", \"2020-06-30\")"
   ]
  },
  {
   "cell_type": "markdown",
   "id": "0c0907a7",
   "metadata": {},
   "source": [
    "**Treetime**"
   ]
  },
  {
   "cell_type": "markdown",
   "id": "a1cf5136",
   "metadata": {},
   "source": [
    "After running ``treetime`` with a relaxed clock on the data (without removing any outliers--I think it looks OK), this happens:"
   ]
  },
  {
   "cell_type": "markdown",
   "id": "e1c64432",
   "metadata": {},
   "source": [
    "``ubuntu@madeline-01:~/nf-test/sequencing_centre_trees``$`` nohup treetime --aln underscores.aln --tree work/b4/37198fc91aae51e2df417b447449db/reformatted.aln.treefile --dates metadata_reformatted.csv --name-column sequence_name --date-column sample_date --relax 1.0 0 --clock-rate 0.008 --outdir timetree``"
   ]
  },
  {
   "cell_type": "code",
   "execution_count": null,
   "id": "0b6744ea",
   "metadata": {},
   "outputs": [],
   "source": [
    "plot_tree_by_factor(\"full_timeframe/timetree.nexus\", \"full_timeframe/metadata_reformatted.csv\", \"lineage\", \"nexus\", \"2020-06-30\")"
   ]
  },
  {
   "cell_type": "markdown",
   "id": "6e47e934",
   "metadata": {},
   "source": [
    "This is an unrooted tree.  As expected, the B.1.1.* samples belong to the B.1.1 clade, and the other colors seem to cluster together nicely as well.  (Hooray!)"
   ]
  },
  {
   "cell_type": "markdown",
   "id": "9ebf7dcd",
   "metadata": {},
   "source": [
    "**A closer look at the B.1.225 clade**\n",
    "\n",
    "B.1.225 has almost a mini-wave of its own inside the larger first wave in NORW.  What does it look like if I plot the subtree of just B.1.225?"
   ]
  },
  {
   "cell_type": "code",
   "execution_count": null,
   "id": "2633b34a",
   "metadata": {},
   "outputs": [],
   "source": [
    "p <- plot_one_lineage_from_tree(\"full_timeframe/reformatted.aln.treefile\", \"full_timeframe/metadata_reformatted.csv\", \"B.1.225\", \"newick\", \"2020-06-30\")\n",
    "p1 <- p + geom_text2(\n",
    "    mapping = aes(subset = !isTip, label = node),\n",
    "    size = 5,\n",
    "    color = \"darkred\",\n",
    "    hjust = 1,\n",
    "    vjust = 1) \n",
    "p1"
   ]
  },
  {
   "cell_type": "markdown",
   "id": "2f5b5fe4",
   "metadata": {},
   "source": [
    "So, B.1.225 is clade 57.  There is one outlier: what is it?"
   ]
  },
  {
   "cell_type": "markdown",
   "id": "f94a4f93",
   "metadata": {},
   "source": [
    "Coloring B.1.225 by phylotype, just to see:"
   ]
  },
  {
   "cell_type": "code",
   "execution_count": null,
   "id": "638f4b68",
   "metadata": {},
   "outputs": [],
   "source": [
    "plot_tree_subset_and_color(\"full_timeframe/reformatted.aln.treefile\", england, \"lineage\", \"B.1.225\", \"phylotype\", \"newick\", \"2020-06-30\")"
   ]
  },
  {
   "cell_type": "markdown",
   "id": "c9f27422",
   "metadata": {},
   "source": [
    "A closer look at the B lineage--one of the first lineages to appear in the dataset, and one that didn't last past May:"
   ]
  },
  {
   "cell_type": "code",
   "execution_count": null,
   "id": "06258915",
   "metadata": {},
   "outputs": [],
   "source": [
    "plot_one_lineage_from_tree(\"full_timeframe/reformatted.aln.treefile\", \"full_timeframe/metadata_reformatted.csv\", \"B\", \"newick\", \"2020-06-30\")"
   ]
  },
  {
   "cell_type": "markdown",
   "id": "61780f24",
   "metadata": {},
   "source": [
    "The samples in B are more evenly spread apart and also more spread out over time than those in B.1.225."
   ]
  },
  {
   "cell_type": "markdown",
   "id": "f445c5d5",
   "metadata": {},
   "source": [
    "**A closer look at the lowest sage-green node/cluster**"
   ]
  },
  {
   "cell_type": "markdown",
   "id": "0ec29297",
   "metadata": {},
   "source": [
    "First have to label the tree to figure out what node it is:"
   ]
  },
  {
   "cell_type": "code",
   "execution_count": null,
   "id": "7dfac7d7",
   "metadata": {},
   "outputs": [],
   "source": [
    "p <- plot_tree_by_factor(\"full_timeframe/timetree.nexus\", \"full_timeframe/metadata_reformatted.csv\", \"lineage\", \"nexus\", \"2020-06-30\")\n",
    "\n",
    "p1 <- p + geom_text2(\n",
    "    mapping = aes(subset = !isTip, label = node),\n",
    "    size = 5,\n",
    "    color = \"darkred\",\n",
    "    hjust = 1,\n",
    "    vjust = 1) \n",
    "p1"
   ]
  },
  {
   "cell_type": "code",
   "execution_count": null,
   "id": "1edcb2e0",
   "metadata": {},
   "outputs": [],
   "source": [
    "p2 <- p + geom_tiplab()\n",
    "viewClade(p2, node = 1005)"
   ]
  },
  {
   "cell_type": "markdown",
   "id": "f61fa446",
   "metadata": {},
   "source": [
    "Question: what is the crossed node at the top?  I'm guessing this whole picture shows a polytomy, but does it mean something different that the top tip is vertical?"
   ]
  },
  {
   "cell_type": "markdown",
   "id": "a7350d43",
   "metadata": {},
   "source": [
    "# Trees produced with other sampling methods: NORW from 2020-01-01 to 2020-06-30"
   ]
  },
  {
   "cell_type": "markdown",
   "id": "35673025",
   "metadata": {},
   "source": [
    "**Reduced Queries Tree**\n",
    "\n",
    "I also wanted to check how reducing the queries to the most diverse would change the tree shape and lineage distribution, so I reran the tree-making pipeline with the option to take only the 500 most diverse sequences--so, around half the size of the first tree.\n",
    "\n",
    "``(base) ubuntu@madeline-01:~/nf-test/sequencing_centre_trees``$`` nohup nextflow run sequencing_centre_trees.nf --start_date \"2020-01-01\" --end_date \"2020-06-30\" --diverseQueries 500 --centre \"NORW\" --max_samples_per_month false``\n",
    "\n",
    "``executor >  local (3)\n",
    "[a4/015cbf] process > chooseSamples (1)        [100%] 1 of 1, cached: 1 ✔\n",
    "[58/647b0c] process > getFastaRecords (1)      [100%] 1 of 1, cached: 1 ✔\n",
    "[95/8791b7] process > maskProblematicSites (1) [100%] 1 of 1, cached: 1 ✔\n",
    "[4b/4d8997] process > removeWuhanHu1 (1)       [100%] 1 of 1, cached: 1 ✔\n",
    "[36/5f3158] process > reduceQueries (1)        [100%] 1 of 1, cached: 1 ✔\n",
    "[40/abe64d] process > buildFastTree (1)        [100%] 1 of 1 ✔\n",
    "[3d/40a8ea] process > refineTree (1)           [100%] 1 of 1 ✔\n",
    "[3a/66a16e] process > runPangolin (1)          [100%] 1 of 1, failed: 1 ✘\n",
    "[f3/7f4726] process > getCOGUKMetadata (1)     [100%] 1 of 1, cached: 1 ✔\n",
    "[-        ] process > joinMetadata             -\n",
    "Error executing process > 'runPangolin (1)'``\n",
    "\n",
    "*Pangolin failure"
   ]
  },
  {
   "cell_type": "code",
   "execution_count": null,
   "id": "4c10f098",
   "metadata": {},
   "outputs": [],
   "source": [
    "plot_tree_by_factor(\"reduced_queries/reformatted.aln.treefile\", \"full_timeframe/metadata_reformatted.csv\", \"lineage\", \"newick\", \"2020-06-30\")"
   ]
  },
  {
   "cell_type": "markdown",
   "id": "4c60b2e5",
   "metadata": {},
   "source": [
    "**Max 100 Samples Per Month Tree**\n",
    "\n",
    "For this tree I took min(100 samples per month, total samples per month) for each month from January to June 2020, randomly sampling without replacement.  \n",
    "\n",
    "``(base) ubuntu@madeline-01:~/nf-test/sequencing_centre_trees``$`` nohup nextflow run sequencing_centre_trees.nf --start_date \"2020-01-01\" --end_date \"2020-06-30\" --diverseQueries false --centre \"NORW\" --max_samples_per_month 100``\n",
    "\n",
    "``executor >  local (8)\n",
    "[df/edb806] process > chooseSamples (1)        [100%] 1 of 1 ✔\n",
    "[19/03bc07] process > getFastaRecords (1)      [100%] 1 of 1 ✔\n",
    "[1e/752434] process > maskProblematicSites (1) [100%] 1 of 1 ✔\n",
    "[86/4a0b6e] process > removeWuhanHu1 (1)       [100%] 1 of 1 ✔\n",
    "[-        ] process > reduceQueries            -\n",
    "[20/15094e] process > buildFastTree (1)        [100%] 1 of 1 ✔\n",
    "[af/1d66f1] process > refineTree (1)           [100%] 1 of 1 ✔\n",
    "[1e/1cd80d] process > runPangolin (1)          [  0%] 0 of 1\n",
    "[5b/6dece9] process > getCOGUKMetadata (1)     [100%] 1 of 1 ✔\n",
    "[-        ] process > joinMetadata             -\n",
    "``\n",
    "\n",
    "*Note that Pangolin failed this time; the error message is a bit opaque."
   ]
  },
  {
   "cell_type": "code",
   "execution_count": null,
   "id": "c14c3c05",
   "metadata": {},
   "outputs": [],
   "source": [
    "plot_tree_by_factor(\"100_per_month/reformatted.aln.treefile\", \"full_timeframe/metadata_reformatted.csv\", \"lineage\", \"newick\", \"2020-06-30\")"
   ]
  },
  {
   "cell_type": "markdown",
   "id": "6e834989",
   "metadata": {},
   "source": [
    "**Comparing the lineages present from each sampling method**\n",
    "\n"
   ]
  },
  {
   "cell_type": "code",
   "execution_count": null,
   "id": "ef578b52",
   "metadata": {},
   "outputs": [],
   "source": [
    "reduced_qs <- read.csv(\"reduced_queries/leaftips_cog_metadata.csv\", sep = \",\")\n",
    "max_100 <- read.csv(\"100_per_month/leaftips_cog_metadata.csv\", sep = \",\")\n",
    "full <- read.csv(\"full_timeframe/metadata_reformatted.csv\", sep = \",\")"
   ]
  },
  {
   "cell_type": "markdown",
   "id": "1cbc6e16",
   "metadata": {},
   "source": [
    "**1) Time distribution of samples for each method**"
   ]
  },
  {
   "cell_type": "code",
   "execution_count": null,
   "id": "69c98db4",
   "metadata": {},
   "outputs": [],
   "source": [
    "plot_samples_over_time <- function(df, title){\n",
    "    \n",
    "options(repr.plot.width=14, repr.plot.height=8) ; par(oma=c(0,0,0,0))\n",
    "    \n",
    "p <- ggplot(df, aes(x = sample_date)) + geom_bar(color='black')\n",
    "p <- p + theme_classic() + theme(axis.text.x = element_text(color=\"black\", size=16)) + xlab(\"Sample Date\") + ylab(\"Number of Sequences\")\n",
    "p <- p + theme(axis.title.x = element_text(color=\"black\", size=15, face=\"bold\"), \n",
    "               axis.text.x = element_text(color=\"black\", size=12, angle = 90, vjust = 0.5, hjust=1),\n",
    "               axis.title.y = element_text(color=\"black\", size=15, face=\"bold\"),\n",
    "               axis.text.y = element_text(color=\"black\", size=15),\n",
    "               legend.text = element_text(size=16), legend.title = element_text(size=20)\n",
    "              )\n",
    "\n",
    "p <- p + labs(title = title)\n",
    "p\n",
    "}"
   ]
  },
  {
   "cell_type": "code",
   "execution_count": null,
   "id": "d72f5c5c",
   "metadata": {},
   "outputs": [],
   "source": [
    "plot_samples_over_time(full, \"All samples\")"
   ]
  },
  {
   "cell_type": "code",
   "execution_count": null,
   "id": "10f9bcb9",
   "metadata": {},
   "outputs": [],
   "source": [
    "plot_samples_over_time(reduced_qs, \"500 most diverse queries\")"
   ]
  },
  {
   "cell_type": "code",
   "execution_count": null,
   "id": "35ef44e8",
   "metadata": {},
   "outputs": [],
   "source": [
    "plot_samples_over_time(max_100, \"Max 100 samples per month\")"
   ]
  },
  {
   "cell_type": "markdown",
   "id": "49f9f8de",
   "metadata": {},
   "source": [
    "\"Most diverse queries\" has a similar time distribution to the original dataset.  I wasn't expecting this necessarily, because a given day with a lot of samples could easily have all those samples be very similar to each other if they came from a more transmissible variant or if the samples were linked to each other in some way (eg. a factory-wide testing day). I would expect that lowering the threshold to, say, the 200 most diverse queries, would result in a bigger difference in the shape of the time distribution from the original dataset.  \n",
    "\n",
    "The \"Max 100 samples per month\" sampling method is flatter than the original, as called for."
   ]
  },
  {
   "cell_type": "markdown",
   "id": "d390e175",
   "metadata": {},
   "source": [
    "**2) Lineages present over the whole time period**"
   ]
  },
  {
   "cell_type": "code",
   "execution_count": null,
   "id": "7ce679e7",
   "metadata": {},
   "outputs": [],
   "source": [
    "plot_lineages_sampling_type <- function(df, title){\n",
    "    \n",
    "total_lineages <- as.data.frame(table(df$lineage))\n",
    "options(repr.plot.width=14, repr.plot.height=8) ; par(oma=c(0,0,0,0))\n",
    "p <- ggplot(data=total_lineages, mapping = aes(x = Var1, y = Freq)) + ggplot2::geom_bar(stat=\"identity\", color='black', fill='maroon')\n",
    "p <- p + theme_classic() + theme(axis.text.x = element_text(color=\"black\", size=16)) + xlab(\"Lineage\") + ylab(\"Number of Sequences\")\n",
    "p <- p + theme(axis.title.x = element_text(color=\"black\", size=15, face=\"bold\"), \n",
    "               axis.text.x = element_text(color=\"black\", size=15, angle = 90, vjust = 0.5, hjust=1),\n",
    "               axis.title.y = element_text(color=\"black\", size=15, face=\"bold\"),\n",
    "               axis.text.y = element_text(color=\"black\", size=15),\n",
    "               legend.text = element_text(size=16), legend.title = element_text(size=20)\n",
    "              )\n",
    "\n",
    "p <- p + labs(title = title)\n",
    "p\n",
    "}"
   ]
  },
  {
   "cell_type": "code",
   "execution_count": null,
   "id": "2ea1c0da",
   "metadata": {},
   "outputs": [],
   "source": [
    "plot_lineages_sampling_type(full, \"All samples\")"
   ]
  },
  {
   "cell_type": "markdown",
   "id": "7543f530",
   "metadata": {},
   "source": [
    "There are 27 lineages across the 946 samples."
   ]
  },
  {
   "cell_type": "code",
   "execution_count": null,
   "id": "a2b80d7e",
   "metadata": {},
   "outputs": [],
   "source": [
    "plot_lineages_sampling_type(reduced_qs, \"500 most diverse queries\")"
   ]
  },
  {
   "cell_type": "markdown",
   "id": "c8b6ecb9",
   "metadata": {},
   "source": [
    "Taking the 500 most diverse samples still captures all 27 lineages, as hoped.  It also appears to follow the same distribution as the original dataset, just shortened by about half, which is quite nice.  Based on this one small cohort (!!), taking the most diverse queries gives a good representation of the original dataset in a smaller format."
   ]
  },
  {
   "cell_type": "code",
   "execution_count": null,
   "id": "bcafb050",
   "metadata": {},
   "outputs": [],
   "source": [
    "plot_lineages_sampling_type(max_100, \"Max 100 samples per month\")"
   ]
  },
  {
   "cell_type": "markdown",
   "id": "385fbf4e",
   "metadata": {},
   "source": [
    "Here, 19/27 lineages are still captured even with only about half as many samples (272) as the diverse queries method (500).  Missing are: B.52, B.27, B.1.250, B.1.1.88, B.1.1.41, B.1.1.274, B.1.1.164, and B.1.1.10, all of which were rarer lineages in the full dataset.  However, increasing the maximum number of samples per month so that you wind up with roughly the same number as the most diverse queries dataset might account for those.  Because of that, I'm not sure that this is a good way to sample genomes (but more data will be needed to show this :)).  This leads me to..."
   ]
  },
  {
   "cell_type": "markdown",
   "id": "b2c5dc03",
   "metadata": {},
   "source": [
    "**Max Total Random Samples Tree**\n",
    "\n",
    "I haven't implemented this yet, but this sampling technique is used in the [B.1.1.7 article by Hill et al](https://www.biorxiv.org/content/10.1101/2022.03.08.481609v1), who took ~1000 samples for each of B.1.1.7 and the background lineages time-homogeneously throughout a defined time frame.  I think this would be a helpful technique for finding the ancestry of a lineage, when you want to clearly see the potential ancestors, but it might be less good for getting an overview of the landscape over time, in cases where sequence diversity is higher for one timepoint than another."
   ]
  },
  {
   "cell_type": "markdown",
   "id": "be8defbf",
   "metadata": {},
   "source": [
    "# Appendix of things I tried out of curiousness that are not really relevant"
   ]
  },
  {
   "cell_type": "markdown",
   "id": "7f6d2ab4",
   "metadata": {},
   "source": [
    "Out of curiosity, just to see what phylotypes look like on the tree:"
   ]
  },
  {
   "cell_type": "code",
   "execution_count": null,
   "id": "c2e7ffd5",
   "metadata": {},
   "outputs": [],
   "source": [
    "plot_tree_by_factor(\"full_timeframe/timetree.nexus\", \"full_timeframe/metadata_reformatted.csv\", \"phylotype\", \"nexus\", \"2020-06-30\")"
   ]
  },
  {
   "cell_type": "markdown",
   "id": "70ecfdc3",
   "metadata": {},
   "source": [
    "The phylotype tree is much more homogeneous than the lineage tree, but only because most samples haven't got a phylotype defined..."
   ]
  },
  {
   "cell_type": "markdown",
   "id": "8fc46d65",
   "metadata": {},
   "source": [
    "How do sample dates look?  Did `timetree` keep the dates roughly in order from left to right?"
   ]
  },
  {
   "cell_type": "code",
   "execution_count": null,
   "id": "eaf9cd3e",
   "metadata": {},
   "outputs": [],
   "source": [
    "plot_tree_by_factor(\"full_timeframe/timetree.nexus\", \"full_timeframe/metadata_reformatted.csv\", \"sample_date\", \"nexus\", \"2020-06-30\")"
   ]
  },
  {
   "cell_type": "markdown",
   "id": "6111c4fc",
   "metadata": {},
   "source": [
    "Yes, looks like it: it roughly goes from orange on the left to pink to green to gold."
   ]
  }
 ],
 "metadata": {
  "kernelspec": {
   "display_name": "R",
   "language": "R",
   "name": "ir"
  },
  "language_info": {
   "codemirror_mode": "r",
   "file_extension": ".r",
   "mimetype": "text/x-r-source",
   "name": "R",
   "pygments_lexer": "r",
   "version": "4.1.2"
  }
 },
 "nbformat": 4,
 "nbformat_minor": 5
}
