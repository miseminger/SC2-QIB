{
 "cells": [
  {
   "cell_type": "markdown",
   "id": "6a5fcb54",
   "metadata": {},
   "source": [
    "# All Norfolk samples, 2021-12-01 to 2022-02-28"
   ]
  },
  {
   "cell_type": "markdown",
   "id": "3315b730",
   "metadata": {},
   "source": [
    "The metadata file was `03.nn_geodate_min.csv.xz`, anonymized by removing the `adm2` column."
   ]
  },
  {
   "cell_type": "markdown",
   "id": "32326966",
   "metadata": {},
   "source": [
    "The exact parameters can be found in `ubuntu@madeline-01:/home/ubuntu/scripts_old/preprocessing.nf`:\n",
    "```\n",
    "params.cog_fasta = \"/home/ubuntu/ongaeshi-mnt/civet/cog_global_*.fasta.xz\"\n",
    "params.cog_meta = \"/home/ubuntu/ongaeshi-mnt/civet/cog_global_*public.csv.xz\"\n",
    "params.wuhan_hu_1 = \"/home/ubuntu/Wuhan-Wu-1-linear.fasta\"\n",
    "params.nns = \"/home/ubuntu/03.nn_geodate_min_noadm2.csv.xz\"\n",
    "params.start_date = \"2021-12-01\"\n",
    "params.end_date = \"2022-02-28\"\n",
    "params.N = 4\n",
    "params.K = 100\n",
    "```\n",
    "\n",
    "``\n",
    "executor >  local (2)\n",
    "[69/4e8026] process > chooseSamples            [100%] 1 of 1, cached: 1 ✔\n",
    "[56/85bbc8] process > getFastaRecords (1)      [100%] 1 of 1, cached: 1 ✔\n",
    "[04/9ff2c4] process > maskProblematicSites (1) [100%] 1 of 1, cached: 1 ✔\n",
    "[02/d4d1fa] process > removeWuhanHu1 (1)       [100%] 1 of 1, cached: 1 ✔\n",
    "[78/1065eb] process > reduceRefs (1)           [100%] 1 of 1, cached: 1 ✔\n",
    "[4b/ba24d1] process > buildReducedRefsTree (1) [100%] 1 of 1, cached: 1 ✔\n",
    "[01/da398e] process > buildAllSamplesTree (1)  [100%] 1 of 1, cached: 1 ✔\n",
    "[6d/e6360e] process > runPangolin (1)          [100%] 1 of 1, failed: 1 ✘\n",
    "[44/260c79] process > getCOGUKMetadata (1)     [100%] 1 of 1 ✔\n",
    "[-        ] process > joinAllMetadata          -\n",
    "[-        ] process > treeTime                 -\n",
    "[-        ] process > treeTimeMugration        -\n",
    "Error executing process > 'runPangolin (1)'\n",
    "``\n",
    "\n",
    "\n",
    "At the time of running, the COG-UK version was `cog_global_2022-03-04.fasta.xz`."
   ]
  },
  {
   "cell_type": "markdown",
   "id": "f047292a",
   "metadata": {},
   "source": [
    "I selected all the Norfolk samples between December 1, 2021 and February 28, 2022 from the nearest neighbours file (`nns`), and the first 4 nearest neighbours for each."
   ]
  },
  {
   "cell_type": "markdown",
   "id": "8434affe",
   "metadata": {},
   "source": [
    "Then I extracted the `fasta` records from `cog_global_2022-03-04.fasta.xz` and added Wuhan-Wu-1.  I masked the problematic sites, then removed Wuhan-Wu-1 from the analysis."
   ]
  },
  {
   "cell_type": "markdown",
   "id": "2ca80ba7",
   "metadata": {},
   "source": [
    "I made a neighbour-joining tree out of the neighbour sequences with `rapidnj`, and found the 100 most diverse neighbours with `iqtree -k 100`.  I built a tree out of just these 100 with `iqtree`."
   ]
  },
  {
   "cell_type": "markdown",
   "id": "b146b9f2",
   "metadata": {},
   "source": [
    "Then, I made a final tree of all the sequences (queries + neighbours), using the neighbours-only tree as a constraint:\n",
    "    ```\n",
    "    iqtree -s allseqs.aln -m HKY+G -g reduced_refs.aln.treefile -t PARS\n",
    "    ```\n",
    "    \n",
    "This part took 3.5 days to run, since there were 6408 tips."
   ]
  },
  {
   "cell_type": "markdown",
   "id": "631d2357",
   "metadata": {},
   "source": [
    "Finally, I visualized this in R:"
   ]
  },
  {
   "cell_type": "markdown",
   "id": "6c43a70d",
   "metadata": {},
   "source": [
    "![title](img/norfolk_dectofeb.png)"
   ]
  },
  {
   "cell_type": "markdown",
   "id": "d3cb4de8",
   "metadata": {},
   "source": [
    "The brown samples on the left side are all Omicron, and the more colourful cluster on the right is Delta.  Three samples had no lineage assigned to them."
   ]
  },
  {
   "cell_type": "markdown",
   "id": "4f4d2905",
   "metadata": {},
   "source": [
    "**More plots of this data**"
   ]
  },
  {
   "cell_type": "code",
   "execution_count": null,
   "id": "621ac210",
   "metadata": {},
   "outputs": [],
   "source": [
    "plot_tree_by_factor <- function(treefile, metadata, factor, treetype, mrsd){\n",
    "\n",
    "# read in everything\n",
    "tbl0 <- read.csv (metadata, sep = \",\") \n",
    "tbl0[is.na(tbl0)] <- \"\"\n",
    "if(treetype==\"newick\") {tre <- read.tree (treefile)}\n",
    "else if(treetype==\"nexus\") {tre <- read.nexus (treefile)}\n",
    "traits <- tbl0 %>% slice(match(tre$tip.label, sequence_name)) #this line means you could use the entire cog_uk metadata\n",
    "rownames(traits) <- traits$sequence_name\n",
    "# traits$code <- substr(traits$central_sample_id,1,4)\n",
    "\n",
    "# get plot inputs\n",
    "groupInfo <- split (tre$tip.label, traits[factor])\n",
    "grouptre <- groupOTU(tre, groupInfo, group_name=\"group1\")\n",
    "options(repr.plot.width=26, repr.plot.height=20) ; par(oma=c(0,0,0,0)) \n",
    "getPal_1 = colorRampPalette( brewer.pal(8,\"Dark2\"))(length(unique(traits[,factor]))+1)  ## RdYlGn Set2\n",
    "\n",
    "# make plot\n",
    "p <- ggtree (grouptre,  aes(color=group1),size=0.4, layout=\"rectangular\", mrsd=mrsd) + theme(legend.position=\"right\") + theme(legend.text=element_text(size=15))\n",
    "p <- p + ggplot2::scale_color_manual(values = getPal_1, name=factor)\n",
    "p <- p + new_scale_color()  + new_scale_fill() \n",
    "p <- p + theme_tree2() \n",
    "p\n",
    "return(p)\n",
    "}"
   ]
  },
  {
   "cell_type": "code",
   "execution_count": null,
   "id": "c6009bee",
   "metadata": {},
   "outputs": [],
   "source": [
    "plot_one_lineage_from_tree <- function(treefile, metadata, lineage_to_plot, treetype, mrsd){\n",
    "\n",
    "# read in everything\n",
    "tbl0 <- read.csv (metadata, sep = \",\") \n",
    "tbl0[is.na(tbl0)] <- \"\"\n",
    "if(treetype==\"newick\") {tre <- read.tree (treefile)}\n",
    "else if(treetype==\"nexus\") {tre <- read.nexus (treefile)}\n",
    "traits <- tbl0 %>% slice(match(tre$tip.label, sequence_name)) \n",
    "rownames(traits) <- traits$sequence_name\n",
    "\n",
    "groupInfo <- split (tre$tip.label, traits$lineage)\n",
    "tip_subset <- unlist(groupInfo[lineage_to_plot])   #char vector of tips to plot\n",
    "subtree <- get_subtree_with_tips(tre, only_tips=tip_subset)$subtree #castor\n",
    "\n",
    "# make plot\n",
    "options(repr.plot.width=26, repr.plot.height=20) ; par(oma=c(0,0,0,0)) \n",
    "p <- ggtree (subtree,  color=\"blue\",size=0.4, layout=\"rectangular\", mrsd=mrsd) + theme(legend.position=\"right\") + theme(legend.text=element_text(size=15))\n",
    "p <- p + theme_tree2() \n",
    "p <- p + geom_tiplab()\n",
    "p <- p + labs(title = lineage_to_plot)\n",
    "p\n",
    "\n",
    "return(p)\n",
    "\n",
    "}"
   ]
  },
  {
   "cell_type": "code",
   "execution_count": null,
   "id": "96dcd36e",
   "metadata": {},
   "outputs": [],
   "source": [
    "plot_tree_subset_and_color <- function(treefile, metadata, factor_to_subset_by, factor_value_to_subset_by, color_by, treetype, mrsd){\n",
    "\n",
    "# read in everything\n",
    "#tbl0 <- read.csv (metadata, sep = \",\") \n",
    "tbl0 <- metadata\n",
    "tbl0[is.na(tbl0)] <- \"\"\n",
    "if(treetype==\"newick\") {tre <- read.tree (treefile)}\n",
    "else if(treetype==\"nexus\") {tre <- read.nexus (treefile)}\n",
    "traits <- tbl0 %>% slice(match(tre$tip.label, sequence_name)) \n",
    "rownames(traits) <- traits$sequence_name\n",
    "\n",
    "# get subtree and traits subset corresponding to factor value\n",
    "traits_subset <- traits[ traits[[factor_to_subset_by]] == factor_value_to_subset_by , ]\n",
    "tip_subset <- traits_subset[[\"sequence_name\"]]\n",
    "tree_subset <- get_subtree_with_tips(tre, only_tips=tip_subset)$subtree #castor\n",
    "    \n",
    "# get color scheme for color_by\n",
    "groupInfo <- split (tree_subset$tip.label, traits_subset[color_by])   \n",
    "grouptre <- groupOTU(tree_subset, groupInfo, group_name=\"group1\")\n",
    "options(repr.plot.width=26, repr.plot.height=20) ; par(oma=c(0,0,0,0)) \n",
    "getPal_1 = colorRampPalette( brewer.pal(8,\"Dark2\"))(length(unique(traits_subset[color_by]))+2)  \n",
    "\n",
    "# make plot\n",
    "p <- ggtree (grouptre,  aes(color=group1),size=0.4, layout=\"rectangular\", mrsd=mrsd) + theme(legend.position=\"right\") + theme(legend.text=element_text(size=15))\n",
    "p <- p + ggplot2::scale_color_manual(values = getPal_1, name=color_by)\n",
    "p <- p + new_scale_color()  + new_scale_fill() \n",
    "p <- p + theme_tree2() \n",
    "p <- p + geom_tiplab()\n",
    "p <- p + labs(title = factor_value_to_subset_by)\n",
    "\n",
    "p\n",
    "return(p)\n",
    "    \n",
    "\n",
    "\n",
    "}"
   ]
  },
  {
   "cell_type": "code",
   "execution_count": 1,
   "id": "6b38198a",
   "metadata": {},
   "outputs": [
    {
     "ename": "SyntaxError",
     "evalue": "invalid syntax (3399687293.py, line 5)",
     "output_type": "error",
     "traceback": [
      "\u001b[0;36m  Input \u001b[0;32mIn [1]\u001b[0;36m\u001b[0m\n\u001b[0;31m    tbl0[is.na(tbl0)] <- \"\"   ## mising country info messes with startsWith()\u001b[0m\n\u001b[0m         ^\u001b[0m\n\u001b[0;31mSyntaxError\u001b[0m\u001b[0;31m:\u001b[0m invalid syntax\n"
     ]
    }
   ],
   "source": [
    "treefile <- \"/home/madeline/Desktop/git_temp/QIB_Internship/data/allseqs.aln.treefile\"\n",
    "annotations <- \"/home/madeline/Desktop/git_temp/QIB_Internship/data/figtree_annotation.tsv\"\n",
    "\n",
    "tbl0 <- read.csv (annotations, sep = \"\\t\") \n",
    "tbl0[is.na(tbl0)] <- \"\"   ## mising country info messes with startsWith()\n",
    "tre <- read.tree (treefile)\n",
    "\n",
    "traits <- tbl0 %>% slice(match(tre$tip.label, sequence_name)) #these already match, but this line means you could use the entire cog_uk metadata\n",
    "rownames(traits) <- traits$sequence_name\n",
    "traits$code <- substr(traits$central_sample_id,1,4)"
   ]
  },
  {
   "cell_type": "code",
   "execution_count": null,
   "id": "83208c61",
   "metadata": {},
   "outputs": [],
   "source": [
    "groupInfo <- split (tre$tip.label, traits[\"lineage\"])\n",
    "grouptre <- groupOTU(tre, groupInfo, group_name=\"group1\")\n",
    "options(repr.plot.width=26, repr.plot.height=20) ; par(oma=c(0,0,0,0)) \n",
    "getPal_lineage = colorRampPalette( brewer.pal(8,\"Dark2\"))(length(unique(traits$lineage))+1)  ## RdYlGn Set2\n",
    "\n",
    "p <- ggtree (grouptre,  aes(color=group1),size=0.4, layout=\"rectangular\") + theme(legend.position=\"right\") + theme(legend.text=element_text(size=15))\n",
    "p <- p + ggplot2::scale_color_manual(values = getPal_lineage, name=\"Lineage\")\n",
    "p <- p + new_scale_color()  + new_scale_fill() \n",
    "p"
   ]
  },
  {
   "cell_type": "code",
   "execution_count": null,
   "id": "a44beb94",
   "metadata": {},
   "outputs": [],
   "source": [
    "plot_one_lineage_from_tree(\"full_timeframe/reformatted.aln.treefile\", \"full_timeframe/metadata_reformatted.csv\", \"B\", \"newick\", \"2020-06-30\")"
   ]
  },
  {
   "cell_type": "markdown",
   "id": "0b5062db",
   "metadata": {},
   "source": [
    "**Notes about running `treetime`, which ultimately failed due to memory**"
   ]
  },
  {
   "cell_type": "markdown",
   "id": "4a04a5de",
   "metadata": {},
   "source": [
    "On March 24 I ran `treetime` with the relaxed clock, first reformatting the names everywhere:"
   ]
  },
  {
   "cell_type": "markdown",
   "id": "b5f0fccc",
   "metadata": {},
   "source": [
    "``sed 's/\\//_/g' work/01/da398e7bd11c0ac3f4d1843bbd18ec/allseqs.aln > norfolk_dectofeb_allseqs_formatted.aln\n",
    "``"
   ]
  },
  {
   "cell_type": "markdown",
   "id": "15e90350",
   "metadata": {},
   "source": [
    "``(base) ubuntu@madeline-01:~/scripts$ python cog_subset_to_figtree_annotation.py --cog_meta_file /home/ubuntu/scripts_old/work/44/260c79a94c014e4a64b18ba83c57a9/leaftips_cog_metadata.csv --out /home/ubuntu/norfolk_dectofeb_leaftips_cog_metadata_formatted.csv``"
   ]
  },
  {
   "cell_type": "markdown",
   "id": "6a0b0f3b",
   "metadata": {},
   "source": [
    "And then converting to .csv again, because `treetime` couldn't find `sample_date`..."
   ]
  },
  {
   "cell_type": "markdown",
   "id": "c3f7014a",
   "metadata": {},
   "source": [
    "And finally running `treetime` for real:"
   ]
  },
  {
   "cell_type": "markdown",
   "id": "95f441e0",
   "metadata": {},
   "source": [
    "``(base) ubuntu@madeline-01:~/scripts_old$ nohup treetime --aln norfolk_dectofeb_allseqs_formatted.aln --dates /home/ubuntu/norfolk_dectofeb_leaftips_cog_metadata_formatted.csv --name-column sequence_name --date-column sample_date --relax 1.0 0 --clock-rate 0.008 --outdir timetree-Norfolk_DectoFeb``"
   ]
  }
 ],
 "metadata": {
  "kernelspec": {
   "display_name": "Python 3 (ipykernel)",
   "language": "python",
   "name": "python3"
  },
  "language_info": {
   "codemirror_mode": {
    "name": "ipython",
    "version": 3
   },
   "file_extension": ".py",
   "mimetype": "text/x-python",
   "name": "python",
   "nbconvert_exporter": "python",
   "pygments_lexer": "ipython3",
   "version": "3.8.12"
  }
 },
 "nbformat": 4,
 "nbformat_minor": 5
}
